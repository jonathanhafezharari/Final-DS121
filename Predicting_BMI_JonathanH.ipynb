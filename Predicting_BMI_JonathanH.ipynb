{
  "nbformat": 4,
  "nbformat_minor": 0,
  "metadata": {
    "colab": {
      "provenance": []
    },
    "kernelspec": {
      "name": "python3",
      "display_name": "Python 3"
    },
    "language_info": {
      "name": "python"
    }
  },
  "cells": [
    {
      "cell_type": "markdown",
      "source": [
        "# Finding the best algorithm to Predict if a Person smokes or does not smoke based on his insurance cost and his Body Mass Index\n"
      ],
      "metadata": {
        "id": "jUpXzn4ThX-w"
      }
    },
    {
      "cell_type": "markdown",
      "source": [
        "By: Jonathan Hafez"
      ],
      "metadata": {
        "id": "5wNABwgqjRWn"
      }
    },
    {
      "cell_type": "markdown",
      "source": [
        "## Introduction"
      ],
      "metadata": {
        "id": "34uJCZ625Y5e"
      }
    },
    {
      "cell_type": "markdown",
      "source": [
        "\n",
        "For this final project, I decided to try and predict if a person is a smoker or not, based on his body mass index and with insrance cost. In order to predict this values, I had to firstly fix and manipulate the data for it to be easy to use and understand. The reason why I'm doing the project with this dataset, is beacuse I want to to learn how this different algorithms work and most importanly how they differentiate from each other. Also, although the cost depends on if he's a smoker or not, I want to know if its possible to prefectly predict if someone is a smoker or not based on other values.\n",
        "In order to predict, if someone smokes, I used a combination of algorithms to analyze the cost of a person's insurance and their Body Mass Index (BMI) and how it releates to the smoking status of each person. This algorithms include:\n",
        "- K-means Clustering: It groups data points into clusters based on similarity.\n",
        "- Regression Trees: Maps the relationship between different variables and an outcome. \n",
        "- Random Forest: It uses an ensemble of decision trees to make predictions for classification and regression tasks.\n",
        "- Linear Regression: It's a linear model used for regression tasks.\n",
        "\n",
        "After using all of this algorithms on the data, my goal is to find the one that better predicts if someone is a smoker or not. In order to properly messure the accuracy of each of the algorithms, the Mean Square Error and the R-squared will be calculated for each method. Ideally, the best algorithm will have the lowest mean square error and the highest R-squared.\n"
      ],
      "metadata": {
        "id": "k2NYXDMbiXwt"
      }
    },
    {
      "cell_type": "markdown",
      "source": [
        "## Data"
      ],
      "metadata": {
        "id": "5GVLLC1n5dt3"
      }
    },
    {
      "cell_type": "markdown",
      "source": [
        "\n",
        " In order to fulfill this project, I decided to use a dataset that comes from google Kaggle and it's called 'insurance'. This dataset, has many different columns, which columns names include the number of children a person has, sex, age, region, body mass index, if he smokes or not, and how much he pays for his health insurance. On the other hand, there are 1338 rows, where each represents a different person and his respective value for each variable.\n",
        " This kind of data can be used to predict and forsee certain values, by analizing previous numbers. Here, many different predictions can be made, as for example predicting the range of the cost of the insurance based on different variables, between others. For my study, I decided to do something different and to predict if a person smokes or not based only on what he pays for insurance and by his Body Mass Index."
      ],
      "metadata": {
        "id": "yXBEPhZG5fVT"
      }
    },
    {
      "cell_type": "code",
      "source": [
        "#  This is an example of what the first row of the dataset looks like. (Here, the qualitative values have not been modified yet)"
      ],
      "metadata": {
        "colab": {
          "base_uri": "https://localhost:8080/",
          "height": 81
        },
        "id": "RqOTE8-zt-ue",
        "outputId": "9fbcf31a-28d9-4257-dc57-ac0298d4feca"
      },
      "execution_count": null,
      "outputs": [
        {
          "output_type": "execute_result",
          "data": {
            "text/plain": [
              "   age     sex   bmi  children smoker     region    charges\n",
              "0   19  female  27.9         0    yes  southwest  16884.924"
            ],
            "text/html": [
              "\n",
              "  <div id=\"df-38dddc6f-48ff-4981-9f78-da757c640339\">\n",
              "    <div class=\"colab-df-container\">\n",
              "      <div>\n",
              "<style scoped>\n",
              "    .dataframe tbody tr th:only-of-type {\n",
              "        vertical-align: middle;\n",
              "    }\n",
              "\n",
              "    .dataframe tbody tr th {\n",
              "        vertical-align: top;\n",
              "    }\n",
              "\n",
              "    .dataframe thead th {\n",
              "        text-align: right;\n",
              "    }\n",
              "</style>\n",
              "<table border=\"1\" class=\"dataframe\">\n",
              "  <thead>\n",
              "    <tr style=\"text-align: right;\">\n",
              "      <th></th>\n",
              "      <th>age</th>\n",
              "      <th>sex</th>\n",
              "      <th>bmi</th>\n",
              "      <th>children</th>\n",
              "      <th>smoker</th>\n",
              "      <th>region</th>\n",
              "      <th>charges</th>\n",
              "    </tr>\n",
              "  </thead>\n",
              "  <tbody>\n",
              "    <tr>\n",
              "      <th>0</th>\n",
              "      <td>19</td>\n",
              "      <td>female</td>\n",
              "      <td>27.9</td>\n",
              "      <td>0</td>\n",
              "      <td>yes</td>\n",
              "      <td>southwest</td>\n",
              "      <td>16884.924</td>\n",
              "    </tr>\n",
              "  </tbody>\n",
              "</table>\n",
              "</div>\n",
              "      <button class=\"colab-df-convert\" onclick=\"convertToInteractive('df-38dddc6f-48ff-4981-9f78-da757c640339')\"\n",
              "              title=\"Convert this dataframe to an interactive table.\"\n",
              "              style=\"display:none;\">\n",
              "        \n",
              "  <svg xmlns=\"http://www.w3.org/2000/svg\" height=\"24px\"viewBox=\"0 0 24 24\"\n",
              "       width=\"24px\">\n",
              "    <path d=\"M0 0h24v24H0V0z\" fill=\"none\"/>\n",
              "    <path d=\"M18.56 5.44l.94 2.06.94-2.06 2.06-.94-2.06-.94-.94-2.06-.94 2.06-2.06.94zm-11 1L8.5 8.5l.94-2.06 2.06-.94-2.06-.94L8.5 2.5l-.94 2.06-2.06.94zm10 10l.94 2.06.94-2.06 2.06-.94-2.06-.94-.94-2.06-.94 2.06-2.06.94z\"/><path d=\"M17.41 7.96l-1.37-1.37c-.4-.4-.92-.59-1.43-.59-.52 0-1.04.2-1.43.59L10.3 9.45l-7.72 7.72c-.78.78-.78 2.05 0 2.83L4 21.41c.39.39.9.59 1.41.59.51 0 1.02-.2 1.41-.59l7.78-7.78 2.81-2.81c.8-.78.8-2.07 0-2.86zM5.41 20L4 18.59l7.72-7.72 1.47 1.35L5.41 20z\"/>\n",
              "  </svg>\n",
              "      </button>\n",
              "      \n",
              "  <style>\n",
              "    .colab-df-container {\n",
              "      display:flex;\n",
              "      flex-wrap:wrap;\n",
              "      gap: 12px;\n",
              "    }\n",
              "\n",
              "    .colab-df-convert {\n",
              "      background-color: #E8F0FE;\n",
              "      border: none;\n",
              "      border-radius: 50%;\n",
              "      cursor: pointer;\n",
              "      display: none;\n",
              "      fill: #1967D2;\n",
              "      height: 32px;\n",
              "      padding: 0 0 0 0;\n",
              "      width: 32px;\n",
              "    }\n",
              "\n",
              "    .colab-df-convert:hover {\n",
              "      background-color: #E2EBFA;\n",
              "      box-shadow: 0px 1px 2px rgba(60, 64, 67, 0.3), 0px 1px 3px 1px rgba(60, 64, 67, 0.15);\n",
              "      fill: #174EA6;\n",
              "    }\n",
              "\n",
              "    [theme=dark] .colab-df-convert {\n",
              "      background-color: #3B4455;\n",
              "      fill: #D2E3FC;\n",
              "    }\n",
              "\n",
              "    [theme=dark] .colab-df-convert:hover {\n",
              "      background-color: #434B5C;\n",
              "      box-shadow: 0px 1px 3px 1px rgba(0, 0, 0, 0.15);\n",
              "      filter: drop-shadow(0px 1px 2px rgba(0, 0, 0, 0.3));\n",
              "      fill: #FFFFFF;\n",
              "    }\n",
              "  </style>\n",
              "\n",
              "      <script>\n",
              "        const buttonEl =\n",
              "          document.querySelector('#df-38dddc6f-48ff-4981-9f78-da757c640339 button.colab-df-convert');\n",
              "        buttonEl.style.display =\n",
              "          google.colab.kernel.accessAllowed ? 'block' : 'none';\n",
              "\n",
              "        async function convertToInteractive(key) {\n",
              "          const element = document.querySelector('#df-38dddc6f-48ff-4981-9f78-da757c640339');\n",
              "          const dataTable =\n",
              "            await google.colab.kernel.invokeFunction('convertToInteractive',\n",
              "                                                     [key], {});\n",
              "          if (!dataTable) return;\n",
              "\n",
              "          const docLinkHtml = 'Like what you see? Visit the ' +\n",
              "            '<a target=\"_blank\" href=https://colab.research.google.com/notebooks/data_table.ipynb>data table notebook</a>'\n",
              "            + ' to learn more about interactive tables.';\n",
              "          element.innerHTML = '';\n",
              "          dataTable['output_type'] = 'display_data';\n",
              "          await google.colab.output.renderOutput(dataTable, element);\n",
              "          const docLink = document.createElement('div');\n",
              "          docLink.innerHTML = docLinkHtml;\n",
              "          element.appendChild(docLink);\n",
              "        }\n",
              "      </script>\n",
              "    </div>\n",
              "  </div>\n",
              "  "
            ]
          },
          "metadata": {},
          "execution_count": 4
        }
      ]
    },
    {
      "cell_type": "markdown",
      "source": [
        "## Methodology"
      ],
      "metadata": {
        "id": "BWW5nIPO-qc5"
      }
    },
    {
      "cell_type": "markdown",
      "source": [
        "Here, there is a more in depth explanaition of each of the algorithms I used and how they work.\n",
        "\n",
        "**K_mean Clustering:**\n",
        "In this case, we can use Kmeans clustering to group people together based on their insurance payments and BMI. We can then use this data to predict if a person smokes or not. For example, if the majority of people in a particular cluster pay high insurance payments and have a high BMI, then it is likely that the people in that cluster are smokers. Conversely, if the majority of people in a certain cluster pay low insurance payments and have a low BMI, then it is likely that the people in that cluster do not smoke. By using Kmeans clustering to group people together and predict if they smoke or not, we can get a better understanding of how insurance payments and BMI can be used to predict smoking behavior.\n",
        "\n",
        "**Regression Trees:**\n",
        "The regression tree algorithm works by splitting the dataset into different branches based on specific characteristics. For example, the tree might first split the data into two branches based on the  cost, with one branch for those with higher costs and another for those with lower costs. Then, it will further split the data into branches based on BMI, creating more and more branches until the tree is complete. \n",
        "Once the tree is complete, the algorithm can make a prediction as to whether a person smokes or not. It will look at the characteristics of a person and determine which branch they fall into. Then, based on the data in that branch, the algorithm can make a prediction as to whether the person smokes or not. \n",
        "\n",
        "**Random Forest:** This algorithm works by training multiple decision trees on the data. Each tree is trained to make predictions based on a different subset of the data, and the predictions from all of the trees are combined to make a final prediction.\n",
        "Once the random forest algorithm has been trained, it can be used to make predictions on new data. It will look at the characteristics of a person, their  costs and BMI, and use the trained decision trees to make a prediction as to whether they are likely to smoke or not.\n",
        "\n",
        "**Linear Regression**:\n",
        "The linear regression algorithm works by fitting a straight line to the data that best describes the relationship between the different variables. In this case, the algorithm would look at the relationship between insurance costs, BMI, and the likelihood of a person smoking. Once the line has been fitted, the algorithm can use it to make predictions on new data.\n",
        "For example, if a person has a high insurance cost and a high BMI, the algorithm would use the fitted line to predict that they have a high likelihood of smoking. On the other hand, if a person has a low insurance cost and a low BMI, the algorithm would predict that they have a low likelihood of smoking.\n",
        "\n",
        "Overall, I chose these analysis techniques because they are powerful tools for identifying patterns and trends in data, to make accurate predictions. Also, I wanted to learn how this algorithms differentiate betweem one another, and I wanted to experience those differences by working and using this machine learning methods.\n"
      ],
      "metadata": {
        "id": "C0LOKUsX-seg"
      }
    },
    {
      "cell_type": "markdown",
      "source": [
        "## Analysis"
      ],
      "metadata": {
        "id": "eMd4tnDlAuWi"
      }
    },
    {
      "cell_type": "code",
      "source": [
        "# Imported Libraries\n",
        "import pandas as pd\n",
        "import numpy as np\n",
        "import seaborn as sns\n",
        "import pandas as pd\n",
        "from sklearn.metrics import r2_score\n",
        "import numpy as np\n",
        "from sklearn.model_selection import train_test_split, cross_val_score, RandomizedSearchCV\n",
        "import matplotlib.pyplot as plt\n",
        "import seaborn as sns\n",
        "from sklearn.pipeline import Pipeline\n",
        "import warnings\n",
        "warnings.filterwarnings(\"ignore\")\n",
        "from sklearn.svm import SVC\n",
        "from sklearn.linear_model import LogisticRegression\n",
        "from sklearn.ensemble import RandomForestClassifier\n",
        "from sklearn.tree import DecisionTreeClassifier\n",
        "from sklearn.ensemble import GradientBoostingClassifier\n",
        "from sklearn.neighbors import KNeighborsClassifier\n",
        "from sklearn.preprocessing import LabelEncoder, StandardScaler\n",
        "%matplotlib inline\n",
        "from sklearn.linear_model import LinearRegression\n",
        "from sklearn import metrics\n",
        "from sklearn.datasets import make_blobs\n",
        "from sklearn.cluster import KMeans\n",
        "from sklearn.metrics import silhouette_score\n",
        "from sklearn.preprocessing import StandardScaler\n",
        "from sklearn.preprocessing import LabelEncoder\n",
        "from sklearn import metrics\n",
        "from mpl_toolkits.mplot3d import Axes3D\n",
        "import plotly.graph_objs as go\n",
        "from plotly import tools\n",
        "from plotly.subplots import make_subplots\n",
        "import plotly.offline as py\n",
        "import numpy as np\n",
        "import plotly.express as px\n",
        "import plotly.graph_objects as go\n",
        "import sklearn.metrics  \n",
        "from sklearn.ensemble import RandomForestRegressor\n",
        "import math  \n",
        "import sklearn.metrics \n"
      ],
      "metadata": {
        "id": "TXFEr03UHDY9"
      },
      "execution_count": null,
      "outputs": []
    },
    {
      "cell_type": "code",
      "execution_count": null,
      "metadata": {
        "colab": {
          "base_uri": "https://localhost:8080/",
          "height": 73
        },
        "id": "UEc2giRslTpG",
        "outputId": "3bdea73a-a4b0-498e-893b-0276062af70a"
      },
      "outputs": [
        {
          "output_type": "display_data",
          "data": {
            "text/plain": [
              "<IPython.core.display.HTML object>"
            ],
            "text/html": [
              "\n",
              "     <input type=\"file\" id=\"files-dca5812c-885a-453b-ab96-3f69f862294d\" name=\"files[]\" multiple disabled\n",
              "        style=\"border:none\" />\n",
              "     <output id=\"result-dca5812c-885a-453b-ab96-3f69f862294d\">\n",
              "      Upload widget is only available when the cell has been executed in the\n",
              "      current browser session. Please rerun this cell to enable.\n",
              "      </output>\n",
              "      <script>// Copyright 2017 Google LLC\n",
              "//\n",
              "// Licensed under the Apache License, Version 2.0 (the \"License\");\n",
              "// you may not use this file except in compliance with the License.\n",
              "// You may obtain a copy of the License at\n",
              "//\n",
              "//      http://www.apache.org/licenses/LICENSE-2.0\n",
              "//\n",
              "// Unless required by applicable law or agreed to in writing, software\n",
              "// distributed under the License is distributed on an \"AS IS\" BASIS,\n",
              "// WITHOUT WARRANTIES OR CONDITIONS OF ANY KIND, either express or implied.\n",
              "// See the License for the specific language governing permissions and\n",
              "// limitations under the License.\n",
              "\n",
              "/**\n",
              " * @fileoverview Helpers for google.colab Python module.\n",
              " */\n",
              "(function(scope) {\n",
              "function span(text, styleAttributes = {}) {\n",
              "  const element = document.createElement('span');\n",
              "  element.textContent = text;\n",
              "  for (const key of Object.keys(styleAttributes)) {\n",
              "    element.style[key] = styleAttributes[key];\n",
              "  }\n",
              "  return element;\n",
              "}\n",
              "\n",
              "// Max number of bytes which will be uploaded at a time.\n",
              "const MAX_PAYLOAD_SIZE = 100 * 1024;\n",
              "\n",
              "function _uploadFiles(inputId, outputId) {\n",
              "  const steps = uploadFilesStep(inputId, outputId);\n",
              "  const outputElement = document.getElementById(outputId);\n",
              "  // Cache steps on the outputElement to make it available for the next call\n",
              "  // to uploadFilesContinue from Python.\n",
              "  outputElement.steps = steps;\n",
              "\n",
              "  return _uploadFilesContinue(outputId);\n",
              "}\n",
              "\n",
              "// This is roughly an async generator (not supported in the browser yet),\n",
              "// where there are multiple asynchronous steps and the Python side is going\n",
              "// to poll for completion of each step.\n",
              "// This uses a Promise to block the python side on completion of each step,\n",
              "// then passes the result of the previous step as the input to the next step.\n",
              "function _uploadFilesContinue(outputId) {\n",
              "  const outputElement = document.getElementById(outputId);\n",
              "  const steps = outputElement.steps;\n",
              "\n",
              "  const next = steps.next(outputElement.lastPromiseValue);\n",
              "  return Promise.resolve(next.value.promise).then((value) => {\n",
              "    // Cache the last promise value to make it available to the next\n",
              "    // step of the generator.\n",
              "    outputElement.lastPromiseValue = value;\n",
              "    return next.value.response;\n",
              "  });\n",
              "}\n",
              "\n",
              "/**\n",
              " * Generator function which is called between each async step of the upload\n",
              " * process.\n",
              " * @param {string} inputId Element ID of the input file picker element.\n",
              " * @param {string} outputId Element ID of the output display.\n",
              " * @return {!Iterable<!Object>} Iterable of next steps.\n",
              " */\n",
              "function* uploadFilesStep(inputId, outputId) {\n",
              "  const inputElement = document.getElementById(inputId);\n",
              "  inputElement.disabled = false;\n",
              "\n",
              "  const outputElement = document.getElementById(outputId);\n",
              "  outputElement.innerHTML = '';\n",
              "\n",
              "  const pickedPromise = new Promise((resolve) => {\n",
              "    inputElement.addEventListener('change', (e) => {\n",
              "      resolve(e.target.files);\n",
              "    });\n",
              "  });\n",
              "\n",
              "  const cancel = document.createElement('button');\n",
              "  inputElement.parentElement.appendChild(cancel);\n",
              "  cancel.textContent = 'Cancel upload';\n",
              "  const cancelPromise = new Promise((resolve) => {\n",
              "    cancel.onclick = () => {\n",
              "      resolve(null);\n",
              "    };\n",
              "  });\n",
              "\n",
              "  // Wait for the user to pick the files.\n",
              "  const files = yield {\n",
              "    promise: Promise.race([pickedPromise, cancelPromise]),\n",
              "    response: {\n",
              "      action: 'starting',\n",
              "    }\n",
              "  };\n",
              "\n",
              "  cancel.remove();\n",
              "\n",
              "  // Disable the input element since further picks are not allowed.\n",
              "  inputElement.disabled = true;\n",
              "\n",
              "  if (!files) {\n",
              "    return {\n",
              "      response: {\n",
              "        action: 'complete',\n",
              "      }\n",
              "    };\n",
              "  }\n",
              "\n",
              "  for (const file of files) {\n",
              "    const li = document.createElement('li');\n",
              "    li.append(span(file.name, {fontWeight: 'bold'}));\n",
              "    li.append(span(\n",
              "        `(${file.type || 'n/a'}) - ${file.size} bytes, ` +\n",
              "        `last modified: ${\n",
              "            file.lastModifiedDate ? file.lastModifiedDate.toLocaleDateString() :\n",
              "                                    'n/a'} - `));\n",
              "    const percent = span('0% done');\n",
              "    li.appendChild(percent);\n",
              "\n",
              "    outputElement.appendChild(li);\n",
              "\n",
              "    const fileDataPromise = new Promise((resolve) => {\n",
              "      const reader = new FileReader();\n",
              "      reader.onload = (e) => {\n",
              "        resolve(e.target.result);\n",
              "      };\n",
              "      reader.readAsArrayBuffer(file);\n",
              "    });\n",
              "    // Wait for the data to be ready.\n",
              "    let fileData = yield {\n",
              "      promise: fileDataPromise,\n",
              "      response: {\n",
              "        action: 'continue',\n",
              "      }\n",
              "    };\n",
              "\n",
              "    // Use a chunked sending to avoid message size limits. See b/62115660.\n",
              "    let position = 0;\n",
              "    do {\n",
              "      const length = Math.min(fileData.byteLength - position, MAX_PAYLOAD_SIZE);\n",
              "      const chunk = new Uint8Array(fileData, position, length);\n",
              "      position += length;\n",
              "\n",
              "      const base64 = btoa(String.fromCharCode.apply(null, chunk));\n",
              "      yield {\n",
              "        response: {\n",
              "          action: 'append',\n",
              "          file: file.name,\n",
              "          data: base64,\n",
              "        },\n",
              "      };\n",
              "\n",
              "      let percentDone = fileData.byteLength === 0 ?\n",
              "          100 :\n",
              "          Math.round((position / fileData.byteLength) * 100);\n",
              "      percent.textContent = `${percentDone}% done`;\n",
              "\n",
              "    } while (position < fileData.byteLength);\n",
              "  }\n",
              "\n",
              "  // All done.\n",
              "  yield {\n",
              "    response: {\n",
              "      action: 'complete',\n",
              "    }\n",
              "  };\n",
              "}\n",
              "\n",
              "scope.google = scope.google || {};\n",
              "scope.google.colab = scope.google.colab || {};\n",
              "scope.google.colab._files = {\n",
              "  _uploadFiles,\n",
              "  _uploadFilesContinue,\n",
              "};\n",
              "})(self);\n",
              "</script> "
            ]
          },
          "metadata": {}
        },
        {
          "output_type": "stream",
          "name": "stdout",
          "text": [
            "Saving insurance.csv to insurance.csv\n"
          ]
        }
      ],
      "source": [
        "from google.colab import files\n",
        "uploaded = files.upload()"
      ]
    },
    {
      "cell_type": "code",
      "source": [
        "df = pd.read_csv(\"insurance.csv\")"
      ],
      "metadata": {
        "id": "FmwH968mlW5_"
      },
      "execution_count": null,
      "outputs": []
    },
    {
      "cell_type": "code",
      "source": [
        "df.info()"
      ],
      "metadata": {
        "colab": {
          "base_uri": "https://localhost:8080/"
        },
        "id": "7sB3Yb7q9SZY",
        "outputId": "0b466544-8886-4897-d9c7-764888a8d7bc"
      },
      "execution_count": null,
      "outputs": [
        {
          "output_type": "stream",
          "name": "stdout",
          "text": [
            "<class 'pandas.core.frame.DataFrame'>\n",
            "RangeIndex: 1338 entries, 0 to 1337\n",
            "Data columns (total 7 columns):\n",
            " #   Column    Non-Null Count  Dtype  \n",
            "---  ------    --------------  -----  \n",
            " 0   age       1338 non-null   int64  \n",
            " 1   sex       1338 non-null   object \n",
            " 2   bmi       1338 non-null   float64\n",
            " 3   children  1338 non-null   int64  \n",
            " 4   smoker    1338 non-null   object \n",
            " 5   region    1338 non-null   object \n",
            " 6   charges   1338 non-null   float64\n",
            "dtypes: float64(2), int64(2), object(3)\n",
            "memory usage: 73.3+ KB\n"
          ]
        }
      ]
    },
    {
      "cell_type": "code",
      "source": [
        "df.head(5)"
      ],
      "metadata": {
        "colab": {
          "base_uri": "https://localhost:8080/",
          "height": 206
        },
        "id": "sqG4GBJfDvSF",
        "outputId": "d43d4111-1098-4285-f7ac-c610c1a0ad3a"
      },
      "execution_count": null,
      "outputs": [
        {
          "output_type": "execute_result",
          "data": {
            "text/plain": [
              "   age     sex     bmi  children smoker     region      charges\n",
              "0   19  female  27.900         0    yes  southwest  16884.92400\n",
              "1   18    male  33.770         1     no  southeast   1725.55230\n",
              "2   28    male  33.000         3     no  southeast   4449.46200\n",
              "3   33    male  22.705         0     no  northwest  21984.47061\n",
              "4   32    male  28.880         0     no  northwest   3866.85520"
            ],
            "text/html": [
              "\n",
              "  <div id=\"df-75ace458-5aa8-4f1e-80a5-e258342f1434\">\n",
              "    <div class=\"colab-df-container\">\n",
              "      <div>\n",
              "<style scoped>\n",
              "    .dataframe tbody tr th:only-of-type {\n",
              "        vertical-align: middle;\n",
              "    }\n",
              "\n",
              "    .dataframe tbody tr th {\n",
              "        vertical-align: top;\n",
              "    }\n",
              "\n",
              "    .dataframe thead th {\n",
              "        text-align: right;\n",
              "    }\n",
              "</style>\n",
              "<table border=\"1\" class=\"dataframe\">\n",
              "  <thead>\n",
              "    <tr style=\"text-align: right;\">\n",
              "      <th></th>\n",
              "      <th>age</th>\n",
              "      <th>sex</th>\n",
              "      <th>bmi</th>\n",
              "      <th>children</th>\n",
              "      <th>smoker</th>\n",
              "      <th>region</th>\n",
              "      <th>charges</th>\n",
              "    </tr>\n",
              "  </thead>\n",
              "  <tbody>\n",
              "    <tr>\n",
              "      <th>0</th>\n",
              "      <td>19</td>\n",
              "      <td>female</td>\n",
              "      <td>27.900</td>\n",
              "      <td>0</td>\n",
              "      <td>yes</td>\n",
              "      <td>southwest</td>\n",
              "      <td>16884.92400</td>\n",
              "    </tr>\n",
              "    <tr>\n",
              "      <th>1</th>\n",
              "      <td>18</td>\n",
              "      <td>male</td>\n",
              "      <td>33.770</td>\n",
              "      <td>1</td>\n",
              "      <td>no</td>\n",
              "      <td>southeast</td>\n",
              "      <td>1725.55230</td>\n",
              "    </tr>\n",
              "    <tr>\n",
              "      <th>2</th>\n",
              "      <td>28</td>\n",
              "      <td>male</td>\n",
              "      <td>33.000</td>\n",
              "      <td>3</td>\n",
              "      <td>no</td>\n",
              "      <td>southeast</td>\n",
              "      <td>4449.46200</td>\n",
              "    </tr>\n",
              "    <tr>\n",
              "      <th>3</th>\n",
              "      <td>33</td>\n",
              "      <td>male</td>\n",
              "      <td>22.705</td>\n",
              "      <td>0</td>\n",
              "      <td>no</td>\n",
              "      <td>northwest</td>\n",
              "      <td>21984.47061</td>\n",
              "    </tr>\n",
              "    <tr>\n",
              "      <th>4</th>\n",
              "      <td>32</td>\n",
              "      <td>male</td>\n",
              "      <td>28.880</td>\n",
              "      <td>0</td>\n",
              "      <td>no</td>\n",
              "      <td>northwest</td>\n",
              "      <td>3866.85520</td>\n",
              "    </tr>\n",
              "  </tbody>\n",
              "</table>\n",
              "</div>\n",
              "      <button class=\"colab-df-convert\" onclick=\"convertToInteractive('df-75ace458-5aa8-4f1e-80a5-e258342f1434')\"\n",
              "              title=\"Convert this dataframe to an interactive table.\"\n",
              "              style=\"display:none;\">\n",
              "        \n",
              "  <svg xmlns=\"http://www.w3.org/2000/svg\" height=\"24px\"viewBox=\"0 0 24 24\"\n",
              "       width=\"24px\">\n",
              "    <path d=\"M0 0h24v24H0V0z\" fill=\"none\"/>\n",
              "    <path d=\"M18.56 5.44l.94 2.06.94-2.06 2.06-.94-2.06-.94-.94-2.06-.94 2.06-2.06.94zm-11 1L8.5 8.5l.94-2.06 2.06-.94-2.06-.94L8.5 2.5l-.94 2.06-2.06.94zm10 10l.94 2.06.94-2.06 2.06-.94-2.06-.94-.94-2.06-.94 2.06-2.06.94z\"/><path d=\"M17.41 7.96l-1.37-1.37c-.4-.4-.92-.59-1.43-.59-.52 0-1.04.2-1.43.59L10.3 9.45l-7.72 7.72c-.78.78-.78 2.05 0 2.83L4 21.41c.39.39.9.59 1.41.59.51 0 1.02-.2 1.41-.59l7.78-7.78 2.81-2.81c.8-.78.8-2.07 0-2.86zM5.41 20L4 18.59l7.72-7.72 1.47 1.35L5.41 20z\"/>\n",
              "  </svg>\n",
              "      </button>\n",
              "      \n",
              "  <style>\n",
              "    .colab-df-container {\n",
              "      display:flex;\n",
              "      flex-wrap:wrap;\n",
              "      gap: 12px;\n",
              "    }\n",
              "\n",
              "    .colab-df-convert {\n",
              "      background-color: #E8F0FE;\n",
              "      border: none;\n",
              "      border-radius: 50%;\n",
              "      cursor: pointer;\n",
              "      display: none;\n",
              "      fill: #1967D2;\n",
              "      height: 32px;\n",
              "      padding: 0 0 0 0;\n",
              "      width: 32px;\n",
              "    }\n",
              "\n",
              "    .colab-df-convert:hover {\n",
              "      background-color: #E2EBFA;\n",
              "      box-shadow: 0px 1px 2px rgba(60, 64, 67, 0.3), 0px 1px 3px 1px rgba(60, 64, 67, 0.15);\n",
              "      fill: #174EA6;\n",
              "    }\n",
              "\n",
              "    [theme=dark] .colab-df-convert {\n",
              "      background-color: #3B4455;\n",
              "      fill: #D2E3FC;\n",
              "    }\n",
              "\n",
              "    [theme=dark] .colab-df-convert:hover {\n",
              "      background-color: #434B5C;\n",
              "      box-shadow: 0px 1px 3px 1px rgba(0, 0, 0, 0.15);\n",
              "      filter: drop-shadow(0px 1px 2px rgba(0, 0, 0, 0.3));\n",
              "      fill: #FFFFFF;\n",
              "    }\n",
              "  </style>\n",
              "\n",
              "      <script>\n",
              "        const buttonEl =\n",
              "          document.querySelector('#df-75ace458-5aa8-4f1e-80a5-e258342f1434 button.colab-df-convert');\n",
              "        buttonEl.style.display =\n",
              "          google.colab.kernel.accessAllowed ? 'block' : 'none';\n",
              "\n",
              "        async function convertToInteractive(key) {\n",
              "          const element = document.querySelector('#df-75ace458-5aa8-4f1e-80a5-e258342f1434');\n",
              "          const dataTable =\n",
              "            await google.colab.kernel.invokeFunction('convertToInteractive',\n",
              "                                                     [key], {});\n",
              "          if (!dataTable) return;\n",
              "\n",
              "          const docLinkHtml = 'Like what you see? Visit the ' +\n",
              "            '<a target=\"_blank\" href=https://colab.research.google.com/notebooks/data_table.ipynb>data table notebook</a>'\n",
              "            + ' to learn more about interactive tables.';\n",
              "          element.innerHTML = '';\n",
              "          dataTable['output_type'] = 'display_data';\n",
              "          await google.colab.output.renderOutput(dataTable, element);\n",
              "          const docLink = document.createElement('div');\n",
              "          docLink.innerHTML = docLinkHtml;\n",
              "          element.appendChild(docLink);\n",
              "        }\n",
              "      </script>\n",
              "    </div>\n",
              "  </div>\n",
              "  "
            ]
          },
          "metadata": {},
          "execution_count": 19
        }
      ]
    },
    {
      "cell_type": "code",
      "source": [
        "# Converting my Qualitative data into Quantitative data\n",
        "le = LabelEncoder()\n",
        "\n",
        "df['region'] = le.fit_transform(df['region'])\n",
        "df['sex'] = df['sex'].apply(lambda x : 1 if x == 'female' else 0)\n",
        "df['smoker'] = df['smoker'].apply(lambda x: 1 if x== 'yes' else 0 )\n",
        "df['charges'] = df['charges'].apply(lambda x: x/1000 )\n"
      ],
      "metadata": {
        "id": "zjIx_BXmldCZ"
      },
      "execution_count": null,
      "outputs": []
    },
    {
      "cell_type": "code",
      "source": [
        "df.corr()"
      ],
      "metadata": {
        "colab": {
          "base_uri": "https://localhost:8080/",
          "height": 269
        },
        "id": "hNSV0hQEN3qR",
        "outputId": "3d6fcc85-adb9-4471-acaf-69845bd96e48"
      },
      "execution_count": null,
      "outputs": [
        {
          "output_type": "execute_result",
          "data": {
            "text/plain": [
              "               age       sex       bmi  children    smoker    region   charges\n",
              "age       1.000000  0.020856  0.109272  0.042469 -0.025019  0.002127  0.299008\n",
              "sex       0.020856  1.000000 -0.046371 -0.017163 -0.076185 -0.004588 -0.057292\n",
              "bmi       0.109272 -0.046371  1.000000  0.012759  0.003750  0.157566  0.198341\n",
              "children  0.042469 -0.017163  0.012759  1.000000  0.007673  0.016569  0.067998\n",
              "smoker   -0.025019 -0.076185  0.003750  0.007673  1.000000 -0.002181  0.787251\n",
              "region    0.002127 -0.004588  0.157566  0.016569 -0.002181  1.000000 -0.006208\n",
              "charges   0.299008 -0.057292  0.198341  0.067998  0.787251 -0.006208  1.000000"
            ],
            "text/html": [
              "\n",
              "  <div id=\"df-abd7d4d9-8f80-4b2b-80db-f1d6501c7a3b\">\n",
              "    <div class=\"colab-df-container\">\n",
              "      <div>\n",
              "<style scoped>\n",
              "    .dataframe tbody tr th:only-of-type {\n",
              "        vertical-align: middle;\n",
              "    }\n",
              "\n",
              "    .dataframe tbody tr th {\n",
              "        vertical-align: top;\n",
              "    }\n",
              "\n",
              "    .dataframe thead th {\n",
              "        text-align: right;\n",
              "    }\n",
              "</style>\n",
              "<table border=\"1\" class=\"dataframe\">\n",
              "  <thead>\n",
              "    <tr style=\"text-align: right;\">\n",
              "      <th></th>\n",
              "      <th>age</th>\n",
              "      <th>sex</th>\n",
              "      <th>bmi</th>\n",
              "      <th>children</th>\n",
              "      <th>smoker</th>\n",
              "      <th>region</th>\n",
              "      <th>charges</th>\n",
              "    </tr>\n",
              "  </thead>\n",
              "  <tbody>\n",
              "    <tr>\n",
              "      <th>age</th>\n",
              "      <td>1.000000</td>\n",
              "      <td>0.020856</td>\n",
              "      <td>0.109272</td>\n",
              "      <td>0.042469</td>\n",
              "      <td>-0.025019</td>\n",
              "      <td>0.002127</td>\n",
              "      <td>0.299008</td>\n",
              "    </tr>\n",
              "    <tr>\n",
              "      <th>sex</th>\n",
              "      <td>0.020856</td>\n",
              "      <td>1.000000</td>\n",
              "      <td>-0.046371</td>\n",
              "      <td>-0.017163</td>\n",
              "      <td>-0.076185</td>\n",
              "      <td>-0.004588</td>\n",
              "      <td>-0.057292</td>\n",
              "    </tr>\n",
              "    <tr>\n",
              "      <th>bmi</th>\n",
              "      <td>0.109272</td>\n",
              "      <td>-0.046371</td>\n",
              "      <td>1.000000</td>\n",
              "      <td>0.012759</td>\n",
              "      <td>0.003750</td>\n",
              "      <td>0.157566</td>\n",
              "      <td>0.198341</td>\n",
              "    </tr>\n",
              "    <tr>\n",
              "      <th>children</th>\n",
              "      <td>0.042469</td>\n",
              "      <td>-0.017163</td>\n",
              "      <td>0.012759</td>\n",
              "      <td>1.000000</td>\n",
              "      <td>0.007673</td>\n",
              "      <td>0.016569</td>\n",
              "      <td>0.067998</td>\n",
              "    </tr>\n",
              "    <tr>\n",
              "      <th>smoker</th>\n",
              "      <td>-0.025019</td>\n",
              "      <td>-0.076185</td>\n",
              "      <td>0.003750</td>\n",
              "      <td>0.007673</td>\n",
              "      <td>1.000000</td>\n",
              "      <td>-0.002181</td>\n",
              "      <td>0.787251</td>\n",
              "    </tr>\n",
              "    <tr>\n",
              "      <th>region</th>\n",
              "      <td>0.002127</td>\n",
              "      <td>-0.004588</td>\n",
              "      <td>0.157566</td>\n",
              "      <td>0.016569</td>\n",
              "      <td>-0.002181</td>\n",
              "      <td>1.000000</td>\n",
              "      <td>-0.006208</td>\n",
              "    </tr>\n",
              "    <tr>\n",
              "      <th>charges</th>\n",
              "      <td>0.299008</td>\n",
              "      <td>-0.057292</td>\n",
              "      <td>0.198341</td>\n",
              "      <td>0.067998</td>\n",
              "      <td>0.787251</td>\n",
              "      <td>-0.006208</td>\n",
              "      <td>1.000000</td>\n",
              "    </tr>\n",
              "  </tbody>\n",
              "</table>\n",
              "</div>\n",
              "      <button class=\"colab-df-convert\" onclick=\"convertToInteractive('df-abd7d4d9-8f80-4b2b-80db-f1d6501c7a3b')\"\n",
              "              title=\"Convert this dataframe to an interactive table.\"\n",
              "              style=\"display:none;\">\n",
              "        \n",
              "  <svg xmlns=\"http://www.w3.org/2000/svg\" height=\"24px\"viewBox=\"0 0 24 24\"\n",
              "       width=\"24px\">\n",
              "    <path d=\"M0 0h24v24H0V0z\" fill=\"none\"/>\n",
              "    <path d=\"M18.56 5.44l.94 2.06.94-2.06 2.06-.94-2.06-.94-.94-2.06-.94 2.06-2.06.94zm-11 1L8.5 8.5l.94-2.06 2.06-.94-2.06-.94L8.5 2.5l-.94 2.06-2.06.94zm10 10l.94 2.06.94-2.06 2.06-.94-2.06-.94-.94-2.06-.94 2.06-2.06.94z\"/><path d=\"M17.41 7.96l-1.37-1.37c-.4-.4-.92-.59-1.43-.59-.52 0-1.04.2-1.43.59L10.3 9.45l-7.72 7.72c-.78.78-.78 2.05 0 2.83L4 21.41c.39.39.9.59 1.41.59.51 0 1.02-.2 1.41-.59l7.78-7.78 2.81-2.81c.8-.78.8-2.07 0-2.86zM5.41 20L4 18.59l7.72-7.72 1.47 1.35L5.41 20z\"/>\n",
              "  </svg>\n",
              "      </button>\n",
              "      \n",
              "  <style>\n",
              "    .colab-df-container {\n",
              "      display:flex;\n",
              "      flex-wrap:wrap;\n",
              "      gap: 12px;\n",
              "    }\n",
              "\n",
              "    .colab-df-convert {\n",
              "      background-color: #E8F0FE;\n",
              "      border: none;\n",
              "      border-radius: 50%;\n",
              "      cursor: pointer;\n",
              "      display: none;\n",
              "      fill: #1967D2;\n",
              "      height: 32px;\n",
              "      padding: 0 0 0 0;\n",
              "      width: 32px;\n",
              "    }\n",
              "\n",
              "    .colab-df-convert:hover {\n",
              "      background-color: #E2EBFA;\n",
              "      box-shadow: 0px 1px 2px rgba(60, 64, 67, 0.3), 0px 1px 3px 1px rgba(60, 64, 67, 0.15);\n",
              "      fill: #174EA6;\n",
              "    }\n",
              "\n",
              "    [theme=dark] .colab-df-convert {\n",
              "      background-color: #3B4455;\n",
              "      fill: #D2E3FC;\n",
              "    }\n",
              "\n",
              "    [theme=dark] .colab-df-convert:hover {\n",
              "      background-color: #434B5C;\n",
              "      box-shadow: 0px 1px 3px 1px rgba(0, 0, 0, 0.15);\n",
              "      filter: drop-shadow(0px 1px 2px rgba(0, 0, 0, 0.3));\n",
              "      fill: #FFFFFF;\n",
              "    }\n",
              "  </style>\n",
              "\n",
              "      <script>\n",
              "        const buttonEl =\n",
              "          document.querySelector('#df-abd7d4d9-8f80-4b2b-80db-f1d6501c7a3b button.colab-df-convert');\n",
              "        buttonEl.style.display =\n",
              "          google.colab.kernel.accessAllowed ? 'block' : 'none';\n",
              "\n",
              "        async function convertToInteractive(key) {\n",
              "          const element = document.querySelector('#df-abd7d4d9-8f80-4b2b-80db-f1d6501c7a3b');\n",
              "          const dataTable =\n",
              "            await google.colab.kernel.invokeFunction('convertToInteractive',\n",
              "                                                     [key], {});\n",
              "          if (!dataTable) return;\n",
              "\n",
              "          const docLinkHtml = 'Like what you see? Visit the ' +\n",
              "            '<a target=\"_blank\" href=https://colab.research.google.com/notebooks/data_table.ipynb>data table notebook</a>'\n",
              "            + ' to learn more about interactive tables.';\n",
              "          element.innerHTML = '';\n",
              "          dataTable['output_type'] = 'display_data';\n",
              "          await google.colab.output.renderOutput(dataTable, element);\n",
              "          const docLink = document.createElement('div');\n",
              "          docLink.innerHTML = docLinkHtml;\n",
              "          element.appendChild(docLink);\n",
              "        }\n",
              "      </script>\n",
              "    </div>\n",
              "  </div>\n",
              "  "
            ]
          },
          "metadata": {},
          "execution_count": 21
        }
      ]
    },
    {
      "cell_type": "markdown",
      "source": [
        "### Vizualizing some of the data\n",
        "\n"
      ],
      "metadata": {
        "id": "9RVVQJBEF2Jy"
      }
    },
    {
      "cell_type": "code",
      "source": [
        "\n",
        "import plotly.express as px\n",
        "fig = px.scatter_3d(df, x='bmi', y='charges', z= 'children')\n",
        "fig.show()"
      ],
      "metadata": {
        "colab": {
          "base_uri": "https://localhost:8080/",
          "height": 542
        },
        "id": "jqwzd8k7C2P5",
        "outputId": "e36321b8-9c80-4ccf-8396-e7449ffba7ee"
      },
      "execution_count": null,
      "outputs": [
        {
          "output_type": "display_data",
          "data": {
            "text/html": [
              "<html>\n",
              "<head><meta charset=\"utf-8\" /></head>\n",
              "<body>\n",
              "    <div>            <script src=\"https://cdnjs.cloudflare.com/ajax/libs/mathjax/2.7.5/MathJax.js?config=TeX-AMS-MML_SVG\"></script><script type=\"text/javascript\">if (window.MathJax) {MathJax.Hub.Config({SVG: {font: \"STIX-Web\"}});}</script>                <script type=\"text/javascript\">window.PlotlyConfig = {MathJaxConfig: 'local'};</script>\n",
              "        <script src=\"https://cdn.plot.ly/plotly-2.8.3.min.js\"></script>                <div id=\"b31e1644-7fae-444c-b32f-f1d43c322123\" class=\"plotly-graph-div\" style=\"height:525px; width:100%;\"></div>            <script type=\"text/javascript\">                                    window.PLOTLYENV=window.PLOTLYENV || {};                                    if (document.getElementById(\"b31e1644-7fae-444c-b32f-f1d43c322123\")) {                    Plotly.newPlot(                        \"b31e1644-7fae-444c-b32f-f1d43c322123\",                        [{\"hovertemplate\":\"bmi=%{x}<br>charges=%{y}<br>children=%{z}<extra></extra>\",\"legendgroup\":\"\",\"marker\":{\"color\":\"#636efa\",\"symbol\":\"circle\"},\"mode\":\"markers\",\"name\":\"\",\"scene\":\"scene\",\"showlegend\":false,\"x\":[27.9,33.77,33.0,22.705,28.88,25.74,33.44,27.74,29.83,25.84,26.22,26.29,34.4,39.82,42.13,24.6,30.78,23.845,40.3,35.3,36.005,32.4,34.1,31.92,28.025,27.72,23.085,32.775,17.385,36.3,35.6,26.315,28.6,28.31,36.4,20.425,32.965,20.8,36.67,39.9,26.6,36.63,21.78,30.8,37.05,37.3,38.665,34.77,24.53,35.2,35.625,33.63,28.0,34.43,28.69,36.955,31.825,31.68,22.88,37.335,27.36,33.66,24.7,25.935,22.42,28.9,39.1,26.315,36.19,23.98,24.75,28.5,28.1,32.01,27.4,34.01,29.59,35.53,39.805,32.965,26.885,38.285,37.62,41.23,34.8,22.895,31.16,27.2,27.74,26.98,39.49,24.795,29.83,34.77,31.3,37.62,30.8,38.28,19.95,19.3,31.6,25.46,30.115,29.92,27.5,28.025,28.4,30.875,27.94,35.09,33.63,29.7,30.8,35.72,32.205,28.595,49.06,27.94,27.17,23.37,37.1,23.75,28.975,31.35,33.915,28.785,28.3,37.4,17.765,34.7,26.505,22.04,35.9,25.555,28.785,28.05,34.1,25.175,31.9,36.0,22.42,32.49,25.3,29.735,28.69,38.83,30.495,37.73,37.43,28.4,24.13,29.7,37.145,23.37,25.46,39.52,24.42,25.175,35.53,27.83,26.6,36.85,39.6,29.8,29.64,28.215,37.0,33.155,31.825,18.905,41.47,30.3,15.96,34.8,33.345,37.7,27.835,29.2,28.9,33.155,28.595,38.28,19.95,26.41,30.69,41.895,29.92,30.9,32.2,32.11,31.57,26.2,25.74,26.6,34.43,30.59,32.8,28.6,18.05,39.33,32.11,32.23,24.035,36.08,22.3,28.88,26.4,27.74,31.8,41.23,33.0,30.875,28.5,26.73,30.9,37.1,26.6,23.1,29.92,23.21,33.7,33.25,30.8,34.8,24.64,33.88,38.06,41.91,31.635,25.46,36.195,27.83,17.8,27.5,24.51,22.22,26.73,38.39,29.07,38.06,36.67,22.135,26.8,35.3,27.74,30.02,38.06,35.86,20.9,28.975,17.29,32.2,34.21,30.3,31.825,25.365,33.63,40.15,24.415,31.92,25.2,26.84,24.32,36.955,38.06,42.35,19.8,32.395,30.2,25.84,29.37,34.2,37.05,27.455,27.55,26.6,20.615,24.3,31.79,21.56,28.12,40.565,27.645,32.395,31.2,26.62,48.07,26.22,36.765,26.4,33.4,29.64,45.54,28.82,26.8,22.99,27.7,25.41,34.39,28.88,27.55,22.61,37.51,33.0,38.0,33.345,27.5,33.33,34.865,33.06,26.6,24.7,35.97,35.86,31.4,33.25,32.205,32.775,27.645,37.335,25.27,29.64,30.8,40.945,27.2,34.105,23.21,36.48,33.8,36.7,36.385,27.36,31.16,28.785,35.72,34.5,25.74,27.55,32.3,27.72,27.6,30.02,27.55,36.765,41.47,29.26,35.75,33.345,29.92,27.835,23.18,25.6,27.7,35.245,38.28,27.6,43.89,29.83,41.91,20.79,32.3,30.5,21.7,26.4,21.89,30.78,32.3,24.985,32.015,30.4,21.09,22.23,33.155,32.9,33.33,28.31,24.89,40.15,30.115,31.46,17.955,30.685,33.0,43.34,22.135,34.4,39.05,25.365,22.61,30.21,35.625,37.43,31.445,31.35,32.3,19.855,34.4,31.02,25.6,38.17,20.6,47.52,32.965,32.3,20.4,38.38,24.31,23.6,21.12,30.03,17.48,20.235,17.195,23.9,35.15,35.64,34.1,22.6,39.16,26.98,33.88,35.86,32.775,30.59,30.2,24.31,27.265,29.165,16.815,30.4,33.1,20.235,26.9,30.5,28.595,33.11,31.73,28.9,46.75,29.45,32.68,33.5,43.01,36.52,26.695,33.1,29.64,25.65,29.6,38.6,29.6,24.13,23.4,29.735,46.53,37.4,30.14,30.495,39.6,33.0,36.63,30.0,38.095,25.935,25.175,28.38,28.7,33.82,24.32,24.09,32.67,30.115,29.8,33.345,25.1,28.31,28.5,35.625,36.85,32.56,41.325,37.51,31.35,39.5,34.3,31.065,21.47,28.7,38.06,31.16,32.9,25.08,25.08,43.4,25.7,27.93,23.6,28.7,23.98,39.2,34.4,26.03,23.21,30.25,28.93,30.875,31.35,23.75,25.27,28.7,32.11,33.66,22.42,30.4,28.3,35.7,35.31,30.495,31.0,30.875,27.36,44.22,33.915,37.73,26.07,33.88,30.59,25.8,39.425,25.46,42.13,31.73,29.7,36.19,40.48,28.025,38.9,30.2,28.05,31.35,38.0,31.79,36.3,47.41,30.21,25.84,35.435,46.7,28.595,46.2,30.8,28.93,21.4,31.73,41.325,23.8,33.44,34.21,34.105,35.53,19.95,32.68,30.5,44.77,32.12,30.495,40.565,30.59,31.9,40.565,29.1,37.29,43.12,36.86,34.295,27.17,26.84,38.095,30.2,23.465,25.46,30.59,45.43,23.65,20.7,28.27,20.235,30.21,35.91,30.69,29.0,19.57,31.13,21.85,40.26,33.725,29.48,33.25,32.6,37.525,39.16,31.635,25.3,39.05,28.31,34.1,25.175,23.655,26.98,37.8,29.37,34.8,33.155,19.0,33.0,36.63,28.595,25.6,33.11,37.1,31.4,34.1,21.3,33.535,28.785,26.03,28.88,42.46,38.0,38.95,36.1,29.3,35.53,22.705,39.7,38.19,24.51,38.095,26.41,33.66,42.4,28.31,33.915,34.96,35.31,30.78,26.22,23.37,28.5,32.965,42.68,39.6,31.13,36.3,35.2,25.3,42.4,33.155,35.91,28.785,46.53,23.98,31.54,33.66,22.99,38.06,28.7,32.775,32.015,29.81,31.57,31.16,29.7,31.02,43.89,21.375,40.81,31.35,36.1,23.18,17.4,20.3,35.3,24.32,18.5,26.41,26.125,41.69,24.1,31.13,27.36,36.2,32.395,23.655,34.8,40.185,32.3,35.75,33.725,39.27,34.87,44.745,41.47,26.41,29.545,32.9,38.06,28.69,30.495,27.74,35.2,23.54,30.685,40.47,22.6,28.9,22.61,24.32,36.67,33.44,40.66,36.6,37.4,35.4,27.075,39.05,28.405,21.755,40.28,36.08,24.42,21.4,30.1,27.265,32.1,34.77,38.39,23.7,31.73,35.5,24.035,29.15,34.105,26.62,26.41,30.115,27.0,21.755,36.0,30.875,26.4,28.975,37.905,22.77,33.63,27.645,22.8,27.83,37.43,38.17,34.58,35.2,27.1,26.03,25.175,31.825,32.3,29.0,39.7,19.475,36.1,26.7,36.48,28.88,34.2,33.33,32.3,39.805,34.32,28.88,24.4,41.14,35.97,27.6,29.26,27.7,36.955,36.86,22.515,29.92,41.8,27.6,23.18,20.9,31.92,28.5,44.22,22.895,33.1,24.795,26.18,35.97,22.3,42.24,26.51,35.815,41.42,36.575,30.14,25.84,30.8,42.94,21.01,22.515,34.43,31.46,24.225,37.1,26.125,35.53,33.7,17.67,31.13,29.81,24.32,31.825,31.79,28.025,30.78,21.85,33.1,25.84,23.845,34.39,33.82,35.97,31.5,28.31,23.465,31.35,31.1,24.7,32.78,29.81,30.495,32.45,34.2,50.38,24.1,32.775,30.78,32.3,35.53,23.75,23.845,29.6,33.11,24.13,32.23,28.1,47.6,28.0,33.535,19.855,25.4,29.9,37.29,43.7,23.655,24.3,36.2,29.48,24.86,30.1,21.85,28.12,27.1,33.44,28.8,29.5,34.8,27.36,22.135,37.05,26.695,28.93,28.975,30.02,39.5,33.63,26.885,29.04,24.035,38.94,32.11,44.0,20.045,25.555,40.26,22.515,22.515,40.92,27.265,36.85,35.1,29.355,32.585,32.34,39.8,24.6,28.31,31.73,26.695,27.5,24.605,33.99,26.885,22.895,28.2,34.21,25.0,33.2,31.0,35.815,23.2,32.11,23.4,20.1,39.16,34.21,46.53,32.5,25.8,35.3,37.18,27.5,29.735,24.225,26.18,29.48,23.21,46.09,40.185,22.61,39.93,35.8,35.8,34.2,31.255,29.7,18.335,42.9,28.405,30.2,27.835,39.49,30.8,26.79,34.96,36.67,39.615,25.9,35.2,24.795,36.765,27.1,24.795,25.365,25.745,34.32,28.16,23.56,20.235,40.5,35.42,22.895,40.15,29.15,39.995,29.92,25.46,21.375,25.9,30.59,30.115,25.8,30.115,27.645,34.675,20.52,19.8,27.835,31.6,28.27,20.045,23.275,34.1,36.85,36.29,26.885,22.99,32.7,25.8,29.6,19.19,31.73,29.26,28.215,24.985,27.74,22.8,20.13,33.33,32.3,27.6,25.46,24.605,34.2,35.815,32.68,37.0,31.02,36.08,23.32,45.32,34.6,26.03,18.715,31.6,17.29,23.655,35.2,27.93,21.565,38.38,23.0,37.07,30.495,28.88,27.265,28.025,23.085,30.685,25.8,35.245,24.7,25.08,52.58,22.515,30.9,36.955,26.41,29.83,29.8,21.47,27.645,28.9,31.79,39.49,33.82,32.01,27.94,41.14,28.595,25.6,25.3,37.29,42.655,21.66,31.9,37.07,31.445,31.255,28.88,18.335,29.59,32.0,26.03,31.68,33.66,21.78,27.835,19.95,31.5,30.495,18.3,28.975,31.54,47.74,22.1,36.19,29.83,32.7,30.4,33.7,31.35,34.96,33.77,30.875,33.99,19.095,28.6,38.94,36.08,29.8,31.24,29.925,26.22,30.0,20.35,32.3,38.39,25.85,26.315,24.51,32.67,29.64,33.33,35.75,19.95,31.4,38.17,36.86,32.395,42.75,25.08,29.9,35.86,32.8,18.6,23.87,45.9,40.28,18.335,33.82,28.12,25.0,22.23,30.25,32.49,37.07,32.6,24.86,32.34,32.3,32.775,32.8,31.92,21.5,34.1,30.305,36.48,32.56,35.815,27.93,22.135,44.88,23.18,30.59,41.1,34.58,42.13,38.83,28.215,28.31,26.125,40.37,24.6,35.2,34.105,27.36,26.7,41.91,29.26,32.11,27.1,24.13,27.4,34.865,29.81,41.325,29.925,30.3,27.36,28.49,23.56,35.625,32.68,25.27,28.0,32.775,21.755,32.395,36.575,21.755,27.93,30.02,33.55,29.355,25.8,24.32,40.375,32.11,32.3,27.28,17.86,34.8,33.4,25.555,37.1,30.875,34.1,21.47,33.3,31.255,39.14,25.08,37.29,34.6,30.21,21.945,24.97,25.3,24.42,23.94,39.82,16.815,37.18,34.43,30.305,34.485,21.8,24.605,23.3,27.83,31.065,21.66,28.215,22.705,42.13,41.8,36.96,21.28,33.11,33.33,24.3,25.7,29.4,39.82,33.63,29.83,19.8,27.3,29.3,27.72,37.9,36.385,27.645,37.715,23.18,20.52,37.1,28.05,29.9,33.345,23.76,30.5,31.065,33.3,27.5,33.915,34.485,25.52,27.61,27.06,23.7,30.4,29.735,29.925,26.79,33.33,27.645,21.66,30.03,36.3,24.32,17.29,25.9,39.4,34.32,19.95,34.9,23.21,25.745,25.175,22.0,26.125,26.51,27.455,25.745,30.36,30.875,20.8,27.8,24.605,27.72,21.85,28.12,30.2,32.2,26.315,26.695,42.9,34.7,23.655,28.31,20.6,53.13,39.71,26.315,31.065,26.695,38.83,40.37,25.935,33.535,32.87,30.03,24.225,38.6,25.74,33.4,44.7,30.97,31.92,36.85,25.8,29.07],\"y\":[16.884923999999998,1.7255523000000001,4.4494620000000005,21.98447061,3.8668552,3.7566216,8.2405896,7.2815056,6.4064107,28.92313692,2.7213208,27.8087251,1.826843,11.0907178,39.611757700000005,1.837237,10.7973362,2.39517155,10.602385,36.837467,13.22884695,4.149736,1.137011,37.7018768,6.20390175,14.0011338,14.45183515,12.268632250000001,2.7751921499999996,38.711,35.585576,2.1981898500000003,4.687797,13.770097900000001,51.194559139999996,1.62543375,15.61219335,2.3023000000000002,39.7742763,48.173361,3.046062,4.9497587,6.2724772,6.313759,6.079671500000001,20.63028351,3.39335635,3.5569223,12.6298967,38.709176,2.2111307499999997,3.5798287,23.568272,37.7425757,8.0596791,47.49649445,13.60736875,34.303167200000004,23.2447902,5.98952365,8.6062174,4.5046624,30.166618170000003,4.1336416499999995,14.7117438,1.743214,14.235072,6.38937785,5.9201041,17.663144199999998,16.577779500000002,6.799458,11.741726,11.946625899999999,7.726854,11.356660900000001,3.9474131000000003,1.5324697,2.75502095,6.57102435,4.441213149999999,7.93529115,37.1651638,11.0336617,39.836519,21.098554049999997,43.5789394,11.073176,8.0266666,11.0825772,2.0269741,10.94213205,30.184936699999998,5.7290053,47.291055,3.7668838,12.105319999999999,10.2262842,22.4126485,15.820699000000001,6.186127000000001,3.6450894,21.344846699999998,30.9421918,5.003853,17.56037975,2.3315189999999997,3.8773042500000003,2.8671196,47.05553209999999,10.8252537,11.881358,4.646759,2.4047338,11.48831695,30.25999556,11.3813254,19.1077796,8.6013293,6.686431300000001,7.740337,1.7056244999999999,2.25747525,39.5564945,10.11500885,3.38539915,17.08108,9.634538000000001,32.734186300000005,6.082405,12.81544495,13.6163586,11.163568,1.63256445,2.45721115,2.1556815,1.261442,2.04568525,27.32273386,2.166732,27.37590478,3.4905491,18.972495,18.157876,20.7459891,5.1382567,40.720551050000005,9.8776077,10.9596947,1.842519,5.1252157,7.7896350000000005,6.33434355,19.964746299999998,7.0771894,6.948700799999999,21.223675800000002,15.518180249999999,36.9502567,19.749383379999998,21.348706,36.1494835,10.450552,5.152134,5.0281466,10.40708585,4.83063,6.12879745,2.71927975,4.82790495,13.405390299999999,8.11668,1.6947964,5.246047,2.85543755,48.82445,6.45586265,10.436096,8.823279000000001,8.53828845,11.73587905,1.6318212,4.0054225,7.4194778999999995,7.731427099999999,43.75333705,3.9819768,5.325651,6.775961000000001,4.9229159,12.557605299999999,4.883866,2.1376536,12.044342,1.1374697,1.6395631000000002,5.6497150000000005,8.516829,9.6442525,14.9015167,2.1306759000000004,8.8711517,13.01220865,37.133898200000004,7.147105,4.3377352,11.743299,20.9840936,13.880949000000001,6.6101097,1.98007,8.16271625,3.537703,5.0027827,8.520026,7.371772,10.355641,2.483736,3.3929768,25.08176784,5.012471,10.5648845,5.2535240000000005,34.779615,19.5155416,11.9871682,2.6894953999999998,24.22733724,7.35817565,9.225256400000001,7.4436430499999995,14.001286700000001,1.7277850000000001,12.333827999999999,6.7101919,19.4442658,1.6157667,4.4632051,17.3526803,7.1526714,38.5116283,5.354074649999999,35.160134570000004,7.196867,29.5231656,24.47647851,12.6487034,1.9869333999999998,1.8320940000000001,4.04055825,12.829455099999999,47.305305,44.2607499,4.260744,41.09716175,13.047332350000001,43.9211837,5.400980499999999,11.520099850000001,33.7502918,11.837159999999999,17.085267599999998,24.8698368,36.21940545,20.46299766,46.151124499999995,17.179522000000002,14.59063205,7.441053,9.282480600000001,1.7194363000000001,42.856838,7.265702500000001,9.61766245,2.5231695,9.715841000000001,2.80369785,2.150469,12.9287911,9.8551314,22.3315668,48.549178350000005,4.23712655,11.87910405,9.62592,7.742109800000001,9.4329253,14.2561928,47.89679135,25.99282104,3.172018,20.27780751,42.1122356,2.1567518,3.906127,1.7045681,16.297846,21.9786769,38.7463551,9.2494952,6.7467425,24.8733849,12.2655069,4.349462000000001,12.646207,19.4423535,20.17767113,4.1510286999999995,11.94459435,7.7491563999999995,8.444474,1.737376,42.1245153,8.1244084,34.838873,9.7227695,8.835264950000001,10.43506525,7.42119455,4.66760765,4.8947533000000005,24.67166334,35.49164,11.56630055,2.866091,6.600205949999999,3.5618889,42.760502200000005,47.92803,9.144565,48.51756315,24.3936224,13.4290354,11.65837915,19.144576519999998,13.822803,12.1425786,13.937666499999999,41.919097,8.2326388,18.95522017,13.3520998,13.2170945,13.98185035,10.9772063,6.1842994,4.8899995,8.33445755,5.4780368,1.63573365,11.830607200000001,8.932084000000001,3.554203,12.4048791,14.13303775,24.60304837,8.944115100000001,9.6203307,1.8372819,1.6075101,10.043249,4.7510699999999995,13.844505999999999,2.597779,3.1805101,9.7783472,13.430264999999999,8.01706115,8.11626885,3.481868,13.4150381,12.0292867,7.63941745,36.085218999999995,1.3915287,18.0339679,21.6599301,38.1262465,16.45570785,27.00098473,15.006579449999998,42.30369215,20.78148892,5.846917599999999,8.30253565,1.2618589999999998,11.8564115,30.28464294,3.1768159000000002,4.6180799,10.73687075,2.1380707,8.964060550000001,9.290139499999999,9.411005,7.52670645,8.522003,16.58649771,14.988432000000001,1.6316683,9.264797,8.0839198,14.692669350000001,10.269459999999999,3.260199,11.3969002,4.1850979,8.539671,6.6525288,4.0744537,1.6213402000000001,19.59480965,14.45564405,5.080095999999999,2.1349015,7.3457266,9.140951,18.608262,14.4182804,28.9504692,46.8892612,46.5991084,39.12533225,2.7273951000000003,8.96833,9.788865900000001,6.55507035,7.323734819,3.1674558499999996,18.8047524,23.08295533,4.90640965,5.969723,12.638195,4.24359005,13.9198229,2.2547967,5.926845999999999,12.5925345,2.8973235,4.7382682,37.079372000000006,1.1493959,28.28789766,26.10932905,7.345084,12.730999599999999,11.454021500000001,5.910944000000001,4.762328999999999,7.512267,4.0322407,1.969614,1.7695316499999998,4.6863887,21.7970004,11.8819696,11.84077505,10.601412,7.68267,10.381478699999999,22.144032,15.23032405,11.16541765,1.63203625,19.5219682,13.224692999999998,12.6433778,23.2889284,2.2010971,2.4970383000000003,2.20347185,1.744465,20.87878443,25.382296999999998,28.868663899999998,35.14752848,2.53439375,1.5343045,1.8242854,15.55518875,9.3047019,1.6221885,9.880068,9.563029,4.347023350000001,12.4753513,1.253936,48.88513561,10.4619794,1.7487739999999998,24.51309126,2.1964732,12.574049,17.942106,1.9670227,4.931647,8.027968,8.2111002,13.47086,36.197699,6.8373687,22.2181149,32.5483405,5.9743847,6.79686325,2.6432685,3.0770955,3.0442133,11.45528,11.7630009,2.4984144,9.3613268,1.256299,21.08216,11.362755,27.72428875,8.41346305,5.240765000000001,3.85775925,25.65657526,3.9941778,9.86630485,5.3976166999999995,38.24559327,11.48263485,24.059680189999998,9.861025,8.342908750000001,1.7080014000000001,48.67551769999999,14.0434767,12.925886,19.21470553,13.831115200000001,6.067126750000001,5.972378,8.825085999999999,8.2330975,27.34604207,6.196448,3.0563881,13.887204,63.77042801,10.231499900000001,23.8072406,3.26884665,11.538421,3.21362205,45.863205,13.390559,3.9729247,12.957118000000001,11.1876567,17.878900679999997,3.847674,8.3345896,3.9351799,39.98342595,1.6464296999999999,9.1938385,10.923933199999999,2.4940219999999997,9.058730299999999,2.8012588000000003,2.12843105,6.3735573500000005,7.2567231,11.552904,45.70202235,3.761292,2.2194450999999997,4.753636800000001,31.62000106,13.224057049999999,12.2228983,1.6649996,58.57107448,9.724530000000001,3.20649135,12.9139924,1.6395631000000002,6.3562707,17.626239509999998,1.242816,4.7796023,3.8612096499999997,43.943876100000004,13.635637899999999,5.9768311,11.842441999999998,8.428069299999999,2.5664707,15.359104499999999,5.7091644,8.82398575,7.6403092,5.5948455,7.441501000000001,33.47197189,1.6330444,9.17413565,11.070535,16.085127500000002,17.468983899999998,9.283562,3.55862025,25.678778450000003,4.4350942,39.241442,8.5476913,6.571544,2.20769745,6.753037999999999,1.88007,42.969852700000004,11.658115050000001,23.306547,34.439855900000005,10.713644,3.659346,40.182246,9.18217,34.61784065,12.12961415,3.7364647,6.7485912,11.32671487,11.365952,42.9834585,10.085846,1.977815,3.3666697,7.17335995,9.391346,14.4109321,2.7091119,24.91504626,20.149322899999998,12.9491554,6.666243000000001,32.78745859,13.14386485,4.4666214,18.80614547,10.1411362,6.1235688,8.2522843,1.7122270000000002,12.43095335,9.8008882,10.579711,8.2806227,8.527531999999999,12.244531,24.667419000000002,3.410324,4.05871245,26.39226029,14.39439815,6.4356237,22.19243711,5.1485526,1.1363994,27.037914100000002,42.560430399999994,8.703456000000001,40.00333225,45.710207849999996,6.5002359,4.8375823,3.9435954,4.399731,6.1853208,46.2009851,7.22278625,12.485800900000001,46.1305265,12.363547,10.1567832,2.585269,1.24226,40.10389,9.8634718,4.7660219999999995,11.244376899999999,7.7296457499999995,5.4387491,26.236579969999998,34.8064677,2.1041134,8.068185,2.36222905,2.3529684499999997,3.5779989999999997,3.20124515,29.186482360000003,40.2736455,10.97624575,3.5006123,2.0205523,9.54169555,9.504310299999998,5.385337900000001,8.93093455,5.375038,44.4004064,10.2644421,6.11323105,5.469006599999999,1.7275399999999999,10.1072206,8.31083915,1.9844533,2.457502,12.146970999999999,9.5669909,13.1126048,10.8481343,12.231613600000001,9.875680399999998,11.264541,12.979358,1.263249,10.106134249999998,40.9324295,6.66468595,16.65771745,2.2176012000000003,6.7813542,19.361998800000002,10.065413000000001,4.234927,9.447250350000001,14.007222,9.5838933,40.4190191,3.484331,36.1891017,44.58545587,8.60448365,18.2464955,43.254417950000004,3.7578448,8.8272099,9.91035985,11.73784884,1.6272824499999998,8.556906999999999,3.06250825,19.539243,1.90635825,14.210535949999999,11.833782300000001,17.12842608,5.03126955,7.985815,23.065420699999997,5.4287277000000005,36.3077983,3.9257582,2.4169549999999997,19.040876,3.0708087,9.09506825,11.842623750000001,8.062764,7.050642,14.319031,6.93324225,27.94128758,11.150780000000001,12.79720962,17.7485062,7.261741,10.5604917,6.986697,7.44840395,5.934379799999999,9.8698102,18.259216000000002,1.1467965999999998,9.3861613,24.520264,4.3505144,6.414178,12.74116745,1.9173184,5.20957885,13.4579608,5.662225,1.2524069999999998,2.7319122,21.195818,7.2094917999999995,18.310741999999998,4.2661658,4.71952405,11.848141,17.904527050000002,7.0467222000000005,14.3138463,2.10308,38.7926856,1.8158759,7.73185785,28.47673499,2.13688225,1.1315066,3.3097926,9.41492,6.3609936,11.0137119,4.42888785,5.5843057,1.8779294,2.84276075,3.597596,23.40130575,55.13540209000001,7.445918,2.6809493000000004,1.6218827,8.2192039,12.5236048,16.06908475,43.8138661,20.77362775,39.5974072,6.117494499999999,13.393756,5.2663656,4.7197365499999995,11.7439341,5.3774578,7.1603303,4.402233,11.657718899999999,6.4022913500000005,12.6221795,1.526312,12.323936,36.021011200000004,27.5339129,10.072055050000001,45.0089555,9.872701,2.4380552,2.974126,10.60163225,37.2701512,14.119620000000001,42.1116647,11.7296795,24.10691255,1.8753440000000001,40.974164900000005,15.8179857,18.218161390000002,10.965446,46.113510999999995,7.151091999999999,12.26968865,5.458046449999999,8.782468999999999,6.6003609999999995,1.1414450999999999,11.57613,13.129603450000001,4.391652,8.457818,3.3923652,5.966887399999999,6.849026,8.8911395,2.6901138,26.1403603,6.6537885999999995,6.282235,6.311952,3.4430639999999997,2.7890574000000004,2.58585065,46.2551125,4.877981050000001,19.7196947,27.218437249999997,5.2721758,1.682597,11.9451327,29.33098315,7.2438136,10.42291665,44.2026536,13.5550049,13.063883,19.79805455,2.22156445,1.6345734,2.11733885,8.68885885,48.6735588,4.66128635,8.1257845,12.644589,4.56419145,4.84692015,7.633720599999999,15.170069,17.496306,2.6390428999999997,33.732686699999995,14.382709049999999,7.626993000000001,5.25750795,2.4733341,21.77432215,35.06937452,13.041921,5.2452269,13.451122,13.46252,5.488262,4.32041085,6.250435,25.33333284,2.913569,12.032326,13.4708044,6.2897549,2.9270647,6.2382979999999995,10.096969999999999,7.348142,4.6733922,12.233827999999999,32.10866282,8.96579575,2.3040022,9.4876442,1.1218739,9.5495651,2.21746915,1.6284709,12.9828747,11.67413,7.160094,39.047285,6.358776450000001,19.933457999999998,11.534872649999999,47.462894,4.52718295,38.998546000000005,20.00963365,3.8757341000000003,41.99952,12.60988702,41.0342214,28.46891901,2.73010785,3.353284,14.474675,9.500573050000002,26.46709737,4.746344,23.96738305,7.51802535,3.27986855,8.5968278,10.7026424,4.9923764,2.52781865,1.759338,2.3226218,16.13876205,7.8041605,2.9029065,9.70466805,4.8890367999999995,25.51711363,4.50033925,19.199944,16.796411940000002,4.91505985,7.62463,8.41004685,28.340188849999997,4.51882625,14.571890799999998,3.37891,7.14486265,10.118424000000001,5.4844673,16.42049455,7.986475250000001,7.418522,13.887968500000001,6.5517501000000005,5.26781815,17.3617661,34.472841,1.97295,21.232182260000002,8.6275411,4.4333877,4.438263399999999,24.91522085,23.241474529999998,9.957721600000001,8.269044,18.7677377,36.58028216,8.765248999999999,5.383536,12.1249924,2.70924395,3.987926,12.49529085,26.018950519999997,8.798593,35.5955898,42.2111382,1.7110268000000002,8.5698618,2.020177,16.4508947,21.59538229,9.850432000000001,6.877980099999999,21.677283449999997,44.423803,4.137522700000001,13.74787235,12.9500712,12.094477999999999,37.4844493,39.72551805,2.2508352,22.49365964,20.23485475,1.7047001499999999,33.475817150000005,3.161454,11.394065549999999,21.88082,7.3250482,44.501398200000004,3.59417085,39.727614,8.02313545,14.3945579,9.2880267,25.309489000000003,3.3534703,10.59450155,8.277522999999999,17.929303370000003,2.4809791,4.462721800000001,1.9815819,11.554223599999998,48.9702476,6.54819505,5.708867000000001,7.0454989999999995,8.978185100000001,5.75741345,14.3498544,10.928849,39.8717043,13.97445555,1.9095274500000001,12.0966512,13.20428565,4.5628421,8.551347,2.1022647,34.6721472,15.1615344,11.88404858,4.45440265,5.8559025,4.076497,15.01976005,19.023259999999997,10.79635025,11.3532276,9.748910599999999,10.577086999999999,41.676081100000005,11.2865387,3.5914800000000002,33.907548000000006,11.299343,4.5611885,44.641197399999996,1.6746323,23.04556616,3.2271210999999997,16.77630405,11.253421,3.4714096,11.3632832,20.42060465,10.3389316,8.98815875,10.493945799999999,2.9040880000000002,8.6053615,11.512405000000001,41.9492441,24.1809335,5.31216985,2.3960958999999997,10.8074863,9.222402599999999,36.1245737,38.2827495,5.693430500000001,34.166273000000004,8.347164300000001,46.6614424,18.903491409999997,40.904199500000004,14.2546082,10.214636,5.8365204,14.358364369999999,1.728897,8.582302299999998,3.693428,20.70902034,9.99103765,19.673335729999998,11.0855868,7.623518,3.1762877,3.7043545,36.89873308,9.0480273,7.954517,27.11799378,6.3380756,9.630397,11.28910925,52.590829389999996,2.2615688,10.79196,5.979731,2.2037359499999996,12.235839200000001,40.9412854,5.63045785,11.0151747,7.22821565,39.7227462,14.42607385,2.4597201,3.9898409999999997,7.7272532,5.1241886999999995,18.96317192,2.20083085,7.1535538999999995,5.227988750000001,10.9825013,4.529477,4.670640000000001,6.11235295,17.178682400000003,22.4786,11.0936229,6.4578434,4.4339159,2.1543609999999997,23.8876627,6.496886000000001,2.8994893499999996,19.350368900000003,7.65077375,2.85068375,2.632992,9.4473824,18.3282381,8.6038234,37.46534375,13.8447972,21.7713423,13.126677449999999,5.327400249999999,13.72547184,13.019161050000001,8.67119125,4.13408245,18.83870366,33.307550799999994,5.699837499999999,6.39360345,4.934705,6.1987518,8.73322925,2.0553249,9.96406,18.2234512,5.1165004,36.910608030000006,38.415474,20.29686345,12.347172,5.37336425,23.563016179999998,1.7024553,10.806839,3.95607145,12.890057650000001,5.4156612,4.0581161,41.661602,7.5371638999999995,4.71820355,6.593508300000001,8.442667,26.12567477,6.8584796,4.7956568,6.64054485,7.1620122,10.5942257,11.93825595,60.02139897,20.167336029999998,12.479708950000001,11.345519,8.515758700000001,2.69956835,14.4498544,12.22435085,6.9855069499999995,3.2384357,47.269854,49.5776624,4.2962712000000005,3.1716149000000002,1.1359407000000001,5.615368999999999,9.101798,6.0591729999999995,1.6339618,37.6075277,18.6484217,1.241565,16.232847,15.82882173,4.4151588,6.474013,11.43673815,11.30593455,30.063580549999998,10.1977722,4.5442348,3.277161,6.7701925,7.3377479999999995,10.37091255,26.9265144,10.704469999999999,34.25405335,1.880487,8.6153,3.2925298499999998,3.02180915,14.47833015,4.7470529,17.043341400000003,10.95933,2.741948,4.35704365,22.46204375,4.189113099999999,8.283680700000001,24.53569855,14.2834594,1.7203537,47.40388,8.5346718,3.7326251000000004,5.472448999999999,38.344566,7.147472799999999,7.1339025000000005,34.828654,1.5153449,9.30189355,11.93112525,1.96478,1.7089257500000001,4.3404409,5.26146945,2.71082855,62.59287309,46.718163249999996,3.2087869999999996,37.829724199999994,21.259377949999998,2.4646188,16.1153045,21.4724788,33.900653,6.875961,6.94090985,4.57141305,4.536259,36.397576,18.76587545,11.27233139,1.731677,1.1634627,19.49671917,7.20170085,5.42502335,28.10133305,12.9813457,43.8963763,4.23989265,13.143336649999998,7.0500213,9.377904699999998,22.39574424,10.325206,12.6291656,10.795937330000001,11.411685,10.6005483,2.2059808,1.6298335,2.007945,29.1413603],\"z\":[0,1,3,0,0,0,1,3,2,0,0,0,0,0,0,1,1,0,0,0,0,1,0,1,2,3,0,2,1,2,0,0,5,0,1,0,3,0,1,0,0,2,1,2,1,0,2,0,0,1,0,2,1,0,3,2,2,2,1,2,3,4,1,1,0,0,2,1,0,3,0,5,3,1,2,0,1,0,0,0,1,0,1,4,2,2,0,0,0,0,0,1,3,2,2,1,3,0,0,0,0,0,0,3,1,1,1,2,0,0,1,2,0,0,3,0,0,1,0,2,2,0,0,1,3,0,0,0,2,2,0,0,2,0,0,0,0,0,3,0,2,1,2,2,3,3,3,1,1,1,1,0,3,0,1,0,0,0,0,3,0,0,1,2,0,4,5,3,1,3,0,0,0,1,0,0,2,1,2,3,0,0,3,0,2,3,2,3,1,2,0,0,0,1,0,0,0,2,0,0,0,1,0,0,0,1,0,2,0,1,1,4,2,1,2,2,0,0,1,0,1,0,3,0,0,3,0,0,1,2,1,3,0,1,2,2,0,2,0,1,2,1,1,3,0,0,0,0,1,1,2,2,2,3,0,3,0,0,4,0,0,1,3,0,3,3,1,3,1,1,1,2,2,1,0,2,2,0,2,1,1,3,1,1,0,1,2,0,1,3,0,1,2,0,3,0,0,1,3,1,3,3,2,2,2,2,2,1,0,2,0,0,3,0,0,0,0,0,0,1,1,4,0,0,0,1,1,2,1,0,1,0,0,0,2,0,0,1,1,1,0,0,0,0,4,3,2,1,1,0,0,0,0,0,0,0,3,3,0,0,2,1,0,1,2,1,3,2,2,3,0,0,1,2,0,0,3,0,3,1,2,0,0,2,2,0,0,2,0,3,4,0,1,1,2,0,3,0,2,0,0,1,0,3,0,2,0,1,3,1,0,1,2,5,0,1,0,2,1,0,0,0,1,0,2,5,1,0,1,3,0,2,0,0,1,3,0,3,5,0,1,0,0,1,1,0,0,0,0,1,4,1,0,0,2,0,2,0,0,3,3,0,2,0,0,1,1,2,1,1,0,0,0,0,3,1,0,0,0,0,3,2,0,1,3,0,3,0,0,1,0,0,0,0,4,0,2,2,2,0,0,0,1,0,1,3,1,2,0,0,1,0,0,0,1,0,1,2,1,0,0,0,0,0,1,0,2,1,1,0,1,0,2,0,0,1,3,2,1,0,3,2,0,0,0,2,0,2,0,0,0,0,0,2,0,2,1,0,3,0,2,0,0,1,2,0,1,2,5,2,0,1,2,1,2,0,0,1,1,0,1,0,2,1,0,1,3,1,0,1,0,1,2,1,0,1,2,1,2,2,0,0,0,3,0,0,0,0,2,2,1,2,0,3,0,1,0,2,0,0,1,4,1,0,0,0,3,1,0,0,1,0,0,2,1,0,1,2,0,4,5,3,0,3,2,3,1,3,0,0,2,1,0,2,0,2,1,2,1,4,3,1,1,0,0,2,1,2,0,1,3,0,0,0,2,0,3,3,3,2,1,0,2,0,1,2,2,0,1,1,0,1,1,0,1,0,2,1,0,2,0,0,0,1,1,2,0,3,3,0,1,2,2,0,0,0,1,1,2,0,0,3,0,0,1,3,1,1,0,1,3,1,3,1,3,1,0,2,3,2,2,0,0,0,0,1,2,0,1,0,0,0,0,0,4,2,3,0,3,0,2,1,1,0,2,0,1,1,0,2,3,2,0,0,2,3,2,0,3,0,3,0,1,1,1,3,0,0,3,0,0,0,0,0,2,0,2,1,0,0,1,0,1,0,0,0,1,0,0,1,3,3,2,2,2,0,0,3,1,0,1,0,0,2,0,2,2,1,3,1,0,0,2,0,1,2,0,0,2,0,0,0,2,0,0,0,1,1,0,0,0,2,0,2,3,0,0,0,1,0,2,3,2,0,0,2,0,1,0,3,0,1,0,1,3,0,1,5,1,2,3,1,0,3,4,1,0,0,0,1,0,4,0,2,0,0,2,1,0,0,0,0,3,0,0,2,3,1,3,0,1,0,3,1,2,0,0,0,0,1,0,0,1,0,0,2,2,1,0,1,1,1,5,0,2,0,2,5,2,0,0,1,0,0,0,1,2,1,0,3,0,2,1,2,1,1,1,1,1,1,1,0,1,3,2,1,2,1,2,5,3,0,0,0,0,0,0,1,3,0,1,0,3,1,5,1,3,1,0,0,1,2,2,1,3,3,3,0,3,0,2,0,0,0,1,2,2,3,2,1,0,2,4,1,0,0,1,2,3,2,0,3,1,1,1,0,1,0,0,2,1,0,0,0,0,3,2,1,0,2,0,0,0,0,1,2,0,1,1,0,1,0,1,3,0,0,0,0,0,1,0,1,1,3,4,1,2,0,1,1,1,0,0,2,0,1,1,0,0,3,2,1,1,1,2,5,0,0,1,0,0,0,3,0,4,4,2,0,0,1,2,3,1,0,0,0,0,2,1,3,1,3,3,3,0,1,5,2,1,3,0,2,3,1,1,0,0,2,1,0,5,2,0,0,0,3,1,0,0,0,1,3,0,2,2,3,0,0,1,0,0,0,3,1,4,3,0,2,0,0,1,2,1,0,1,0,0,2,2,1,1,2,0,2,2,0,1,1,0,0,1,0,0,1,1,2,3,0,1,0,2,1,1,0,0,3,0,0,1,2,2,2,0,1,3,1,2,2,1,1,1,2,0,2,1,0,0,2,1,3,1,2,0,0,1,1,2,2,0,0,3,0,3,0,2,0,0,0,3,1,2,2,3,0,0,5,3,4,0,1,0,0,0,4,0,0,3,1,3,0,0,1,1,1,2,0,0,0,0,3,1,0,5,1,0,0,0,0,1,2,0,2,0,1,1,0,0,1,2,1,2,0,0,3,0,1,0,2,2,1,0,3,1,0,2,0,0,4,0,2,1,0,1,2,3,1,0,0,4,2,3,0,0,2,1,0,0,1,2,2,2,0,3,3,0,0,0,0],\"type\":\"scatter3d\"}],                        {\"template\":{\"data\":{\"bar\":[{\"error_x\":{\"color\":\"#2a3f5f\"},\"error_y\":{\"color\":\"#2a3f5f\"},\"marker\":{\"line\":{\"color\":\"#E5ECF6\",\"width\":0.5},\"pattern\":{\"fillmode\":\"overlay\",\"size\":10,\"solidity\":0.2}},\"type\":\"bar\"}],\"barpolar\":[{\"marker\":{\"line\":{\"color\":\"#E5ECF6\",\"width\":0.5},\"pattern\":{\"fillmode\":\"overlay\",\"size\":10,\"solidity\":0.2}},\"type\":\"barpolar\"}],\"carpet\":[{\"aaxis\":{\"endlinecolor\":\"#2a3f5f\",\"gridcolor\":\"white\",\"linecolor\":\"white\",\"minorgridcolor\":\"white\",\"startlinecolor\":\"#2a3f5f\"},\"baxis\":{\"endlinecolor\":\"#2a3f5f\",\"gridcolor\":\"white\",\"linecolor\":\"white\",\"minorgridcolor\":\"white\",\"startlinecolor\":\"#2a3f5f\"},\"type\":\"carpet\"}],\"choropleth\":[{\"colorbar\":{\"outlinewidth\":0,\"ticks\":\"\"},\"type\":\"choropleth\"}],\"contour\":[{\"colorbar\":{\"outlinewidth\":0,\"ticks\":\"\"},\"colorscale\":[[0.0,\"#0d0887\"],[0.1111111111111111,\"#46039f\"],[0.2222222222222222,\"#7201a8\"],[0.3333333333333333,\"#9c179e\"],[0.4444444444444444,\"#bd3786\"],[0.5555555555555556,\"#d8576b\"],[0.6666666666666666,\"#ed7953\"],[0.7777777777777778,\"#fb9f3a\"],[0.8888888888888888,\"#fdca26\"],[1.0,\"#f0f921\"]],\"type\":\"contour\"}],\"contourcarpet\":[{\"colorbar\":{\"outlinewidth\":0,\"ticks\":\"\"},\"type\":\"contourcarpet\"}],\"heatmap\":[{\"colorbar\":{\"outlinewidth\":0,\"ticks\":\"\"},\"colorscale\":[[0.0,\"#0d0887\"],[0.1111111111111111,\"#46039f\"],[0.2222222222222222,\"#7201a8\"],[0.3333333333333333,\"#9c179e\"],[0.4444444444444444,\"#bd3786\"],[0.5555555555555556,\"#d8576b\"],[0.6666666666666666,\"#ed7953\"],[0.7777777777777778,\"#fb9f3a\"],[0.8888888888888888,\"#fdca26\"],[1.0,\"#f0f921\"]],\"type\":\"heatmap\"}],\"heatmapgl\":[{\"colorbar\":{\"outlinewidth\":0,\"ticks\":\"\"},\"colorscale\":[[0.0,\"#0d0887\"],[0.1111111111111111,\"#46039f\"],[0.2222222222222222,\"#7201a8\"],[0.3333333333333333,\"#9c179e\"],[0.4444444444444444,\"#bd3786\"],[0.5555555555555556,\"#d8576b\"],[0.6666666666666666,\"#ed7953\"],[0.7777777777777778,\"#fb9f3a\"],[0.8888888888888888,\"#fdca26\"],[1.0,\"#f0f921\"]],\"type\":\"heatmapgl\"}],\"histogram\":[{\"marker\":{\"pattern\":{\"fillmode\":\"overlay\",\"size\":10,\"solidity\":0.2}},\"type\":\"histogram\"}],\"histogram2d\":[{\"colorbar\":{\"outlinewidth\":0,\"ticks\":\"\"},\"colorscale\":[[0.0,\"#0d0887\"],[0.1111111111111111,\"#46039f\"],[0.2222222222222222,\"#7201a8\"],[0.3333333333333333,\"#9c179e\"],[0.4444444444444444,\"#bd3786\"],[0.5555555555555556,\"#d8576b\"],[0.6666666666666666,\"#ed7953\"],[0.7777777777777778,\"#fb9f3a\"],[0.8888888888888888,\"#fdca26\"],[1.0,\"#f0f921\"]],\"type\":\"histogram2d\"}],\"histogram2dcontour\":[{\"colorbar\":{\"outlinewidth\":0,\"ticks\":\"\"},\"colorscale\":[[0.0,\"#0d0887\"],[0.1111111111111111,\"#46039f\"],[0.2222222222222222,\"#7201a8\"],[0.3333333333333333,\"#9c179e\"],[0.4444444444444444,\"#bd3786\"],[0.5555555555555556,\"#d8576b\"],[0.6666666666666666,\"#ed7953\"],[0.7777777777777778,\"#fb9f3a\"],[0.8888888888888888,\"#fdca26\"],[1.0,\"#f0f921\"]],\"type\":\"histogram2dcontour\"}],\"mesh3d\":[{\"colorbar\":{\"outlinewidth\":0,\"ticks\":\"\"},\"type\":\"mesh3d\"}],\"parcoords\":[{\"line\":{\"colorbar\":{\"outlinewidth\":0,\"ticks\":\"\"}},\"type\":\"parcoords\"}],\"pie\":[{\"automargin\":true,\"type\":\"pie\"}],\"scatter\":[{\"marker\":{\"colorbar\":{\"outlinewidth\":0,\"ticks\":\"\"}},\"type\":\"scatter\"}],\"scatter3d\":[{\"line\":{\"colorbar\":{\"outlinewidth\":0,\"ticks\":\"\"}},\"marker\":{\"colorbar\":{\"outlinewidth\":0,\"ticks\":\"\"}},\"type\":\"scatter3d\"}],\"scattercarpet\":[{\"marker\":{\"colorbar\":{\"outlinewidth\":0,\"ticks\":\"\"}},\"type\":\"scattercarpet\"}],\"scattergeo\":[{\"marker\":{\"colorbar\":{\"outlinewidth\":0,\"ticks\":\"\"}},\"type\":\"scattergeo\"}],\"scattergl\":[{\"marker\":{\"colorbar\":{\"outlinewidth\":0,\"ticks\":\"\"}},\"type\":\"scattergl\"}],\"scattermapbox\":[{\"marker\":{\"colorbar\":{\"outlinewidth\":0,\"ticks\":\"\"}},\"type\":\"scattermapbox\"}],\"scatterpolar\":[{\"marker\":{\"colorbar\":{\"outlinewidth\":0,\"ticks\":\"\"}},\"type\":\"scatterpolar\"}],\"scatterpolargl\":[{\"marker\":{\"colorbar\":{\"outlinewidth\":0,\"ticks\":\"\"}},\"type\":\"scatterpolargl\"}],\"scatterternary\":[{\"marker\":{\"colorbar\":{\"outlinewidth\":0,\"ticks\":\"\"}},\"type\":\"scatterternary\"}],\"surface\":[{\"colorbar\":{\"outlinewidth\":0,\"ticks\":\"\"},\"colorscale\":[[0.0,\"#0d0887\"],[0.1111111111111111,\"#46039f\"],[0.2222222222222222,\"#7201a8\"],[0.3333333333333333,\"#9c179e\"],[0.4444444444444444,\"#bd3786\"],[0.5555555555555556,\"#d8576b\"],[0.6666666666666666,\"#ed7953\"],[0.7777777777777778,\"#fb9f3a\"],[0.8888888888888888,\"#fdca26\"],[1.0,\"#f0f921\"]],\"type\":\"surface\"}],\"table\":[{\"cells\":{\"fill\":{\"color\":\"#EBF0F8\"},\"line\":{\"color\":\"white\"}},\"header\":{\"fill\":{\"color\":\"#C8D4E3\"},\"line\":{\"color\":\"white\"}},\"type\":\"table\"}]},\"layout\":{\"annotationdefaults\":{\"arrowcolor\":\"#2a3f5f\",\"arrowhead\":0,\"arrowwidth\":1},\"autotypenumbers\":\"strict\",\"coloraxis\":{\"colorbar\":{\"outlinewidth\":0,\"ticks\":\"\"}},\"colorscale\":{\"diverging\":[[0,\"#8e0152\"],[0.1,\"#c51b7d\"],[0.2,\"#de77ae\"],[0.3,\"#f1b6da\"],[0.4,\"#fde0ef\"],[0.5,\"#f7f7f7\"],[0.6,\"#e6f5d0\"],[0.7,\"#b8e186\"],[0.8,\"#7fbc41\"],[0.9,\"#4d9221\"],[1,\"#276419\"]],\"sequential\":[[0.0,\"#0d0887\"],[0.1111111111111111,\"#46039f\"],[0.2222222222222222,\"#7201a8\"],[0.3333333333333333,\"#9c179e\"],[0.4444444444444444,\"#bd3786\"],[0.5555555555555556,\"#d8576b\"],[0.6666666666666666,\"#ed7953\"],[0.7777777777777778,\"#fb9f3a\"],[0.8888888888888888,\"#fdca26\"],[1.0,\"#f0f921\"]],\"sequentialminus\":[[0.0,\"#0d0887\"],[0.1111111111111111,\"#46039f\"],[0.2222222222222222,\"#7201a8\"],[0.3333333333333333,\"#9c179e\"],[0.4444444444444444,\"#bd3786\"],[0.5555555555555556,\"#d8576b\"],[0.6666666666666666,\"#ed7953\"],[0.7777777777777778,\"#fb9f3a\"],[0.8888888888888888,\"#fdca26\"],[1.0,\"#f0f921\"]]},\"colorway\":[\"#636efa\",\"#EF553B\",\"#00cc96\",\"#ab63fa\",\"#FFA15A\",\"#19d3f3\",\"#FF6692\",\"#B6E880\",\"#FF97FF\",\"#FECB52\"],\"font\":{\"color\":\"#2a3f5f\"},\"geo\":{\"bgcolor\":\"white\",\"lakecolor\":\"white\",\"landcolor\":\"#E5ECF6\",\"showlakes\":true,\"showland\":true,\"subunitcolor\":\"white\"},\"hoverlabel\":{\"align\":\"left\"},\"hovermode\":\"closest\",\"mapbox\":{\"style\":\"light\"},\"paper_bgcolor\":\"white\",\"plot_bgcolor\":\"#E5ECF6\",\"polar\":{\"angularaxis\":{\"gridcolor\":\"white\",\"linecolor\":\"white\",\"ticks\":\"\"},\"bgcolor\":\"#E5ECF6\",\"radialaxis\":{\"gridcolor\":\"white\",\"linecolor\":\"white\",\"ticks\":\"\"}},\"scene\":{\"xaxis\":{\"backgroundcolor\":\"#E5ECF6\",\"gridcolor\":\"white\",\"gridwidth\":2,\"linecolor\":\"white\",\"showbackground\":true,\"ticks\":\"\",\"zerolinecolor\":\"white\"},\"yaxis\":{\"backgroundcolor\":\"#E5ECF6\",\"gridcolor\":\"white\",\"gridwidth\":2,\"linecolor\":\"white\",\"showbackground\":true,\"ticks\":\"\",\"zerolinecolor\":\"white\"},\"zaxis\":{\"backgroundcolor\":\"#E5ECF6\",\"gridcolor\":\"white\",\"gridwidth\":2,\"linecolor\":\"white\",\"showbackground\":true,\"ticks\":\"\",\"zerolinecolor\":\"white\"}},\"shapedefaults\":{\"line\":{\"color\":\"#2a3f5f\"}},\"ternary\":{\"aaxis\":{\"gridcolor\":\"white\",\"linecolor\":\"white\",\"ticks\":\"\"},\"baxis\":{\"gridcolor\":\"white\",\"linecolor\":\"white\",\"ticks\":\"\"},\"bgcolor\":\"#E5ECF6\",\"caxis\":{\"gridcolor\":\"white\",\"linecolor\":\"white\",\"ticks\":\"\"}},\"title\":{\"x\":0.05},\"xaxis\":{\"automargin\":true,\"gridcolor\":\"white\",\"linecolor\":\"white\",\"ticks\":\"\",\"title\":{\"standoff\":15},\"zerolinecolor\":\"white\",\"zerolinewidth\":2},\"yaxis\":{\"automargin\":true,\"gridcolor\":\"white\",\"linecolor\":\"white\",\"ticks\":\"\",\"title\":{\"standoff\":15},\"zerolinecolor\":\"white\",\"zerolinewidth\":2}}},\"scene\":{\"domain\":{\"x\":[0.0,1.0],\"y\":[0.0,1.0]},\"xaxis\":{\"title\":{\"text\":\"bmi\"}},\"yaxis\":{\"title\":{\"text\":\"charges\"}},\"zaxis\":{\"title\":{\"text\":\"children\"}}},\"legend\":{\"tracegroupgap\":0},\"margin\":{\"t\":60}},                        {\"responsive\": true}                    ).then(function(){\n",
              "                            \n",
              "var gd = document.getElementById('b31e1644-7fae-444c-b32f-f1d43c322123');\n",
              "var x = new MutationObserver(function (mutations, observer) {{\n",
              "        var display = window.getComputedStyle(gd).display;\n",
              "        if (!display || display === 'none') {{\n",
              "            console.log([gd, 'removed!']);\n",
              "            Plotly.purge(gd);\n",
              "            observer.disconnect();\n",
              "        }}\n",
              "}});\n",
              "\n",
              "// Listen for the removal of the full notebook cells\n",
              "var notebookContainer = gd.closest('#notebook-container');\n",
              "if (notebookContainer) {{\n",
              "    x.observe(notebookContainer, {childList: true});\n",
              "}}\n",
              "\n",
              "// Listen for the clearing of the current output cell\n",
              "var outputEl = gd.closest('.output');\n",
              "if (outputEl) {{\n",
              "    x.observe(outputEl, {childList: true});\n",
              "}}\n",
              "\n",
              "                        })                };                            </script>        </div>\n",
              "</body>\n",
              "</html>"
            ]
          },
          "metadata": {}
        }
      ]
    },
    {
      "cell_type": "markdown",
      "source": [
        "### Preparing my data for clustering and Regression "
      ],
      "metadata": {
        "id": "TCcOApEsRJVF"
      }
    },
    {
      "cell_type": "code",
      "source": [
        "# Splitting my data into training and testing sets\n",
        "\n",
        "# We are dropping the 'smoker' column because I will use it for the Y_sample and test\n",
        "X=df.drop('smoker',axis='columns')\n",
        "Y= df['smoker']\n",
        "X_train, X_test, Y_train, Y_test = train_test_split(X, Y, test_size=0.2, random_state=2)\n",
        "print(X.shape, X_train.shape, X_test.shape)"
      ],
      "metadata": {
        "colab": {
          "base_uri": "https://localhost:8080/"
        },
        "id": "F_gJpUXWT58e",
        "outputId": "dd5f59e6-b4f5-46f0-a630-66c6b30dbb04"
      },
      "execution_count": null,
      "outputs": [
        {
          "output_type": "stream",
          "name": "stdout",
          "text": [
            "(1338, 6) (1070, 6) (268, 6)\n"
          ]
        }
      ]
    },
    {
      "cell_type": "code",
      "source": [
        "df0 = pd.DataFrame(X_train, columns=['charges', 'bmi'])\n",
        "df0.head(7)"
      ],
      "metadata": {
        "colab": {
          "base_uri": "https://localhost:8080/",
          "height": 269
        },
        "id": "kYrvp94glzcM",
        "outputId": "cb0ad550-45ae-4fe8-852c-04130a6af4a1"
      },
      "execution_count": null,
      "outputs": [
        {
          "output_type": "execute_result",
          "data": {
            "text/plain": [
              "       charges     bmi\n",
              "882   2.585851  22.135\n",
              "505   6.796863  30.875\n",
              "798  11.848141  33.100\n",
              "792   2.731912  23.180\n",
              "201   8.871152  32.230\n",
              "265  46.151124  42.350\n",
              "285   7.742110  26.620"
            ],
            "text/html": [
              "\n",
              "  <div id=\"df-244deae3-6846-425c-addf-608bba4939b6\">\n",
              "    <div class=\"colab-df-container\">\n",
              "      <div>\n",
              "<style scoped>\n",
              "    .dataframe tbody tr th:only-of-type {\n",
              "        vertical-align: middle;\n",
              "    }\n",
              "\n",
              "    .dataframe tbody tr th {\n",
              "        vertical-align: top;\n",
              "    }\n",
              "\n",
              "    .dataframe thead th {\n",
              "        text-align: right;\n",
              "    }\n",
              "</style>\n",
              "<table border=\"1\" class=\"dataframe\">\n",
              "  <thead>\n",
              "    <tr style=\"text-align: right;\">\n",
              "      <th></th>\n",
              "      <th>charges</th>\n",
              "      <th>bmi</th>\n",
              "    </tr>\n",
              "  </thead>\n",
              "  <tbody>\n",
              "    <tr>\n",
              "      <th>882</th>\n",
              "      <td>2.585851</td>\n",
              "      <td>22.135</td>\n",
              "    </tr>\n",
              "    <tr>\n",
              "      <th>505</th>\n",
              "      <td>6.796863</td>\n",
              "      <td>30.875</td>\n",
              "    </tr>\n",
              "    <tr>\n",
              "      <th>798</th>\n",
              "      <td>11.848141</td>\n",
              "      <td>33.100</td>\n",
              "    </tr>\n",
              "    <tr>\n",
              "      <th>792</th>\n",
              "      <td>2.731912</td>\n",
              "      <td>23.180</td>\n",
              "    </tr>\n",
              "    <tr>\n",
              "      <th>201</th>\n",
              "      <td>8.871152</td>\n",
              "      <td>32.230</td>\n",
              "    </tr>\n",
              "    <tr>\n",
              "      <th>265</th>\n",
              "      <td>46.151124</td>\n",
              "      <td>42.350</td>\n",
              "    </tr>\n",
              "    <tr>\n",
              "      <th>285</th>\n",
              "      <td>7.742110</td>\n",
              "      <td>26.620</td>\n",
              "    </tr>\n",
              "  </tbody>\n",
              "</table>\n",
              "</div>\n",
              "      <button class=\"colab-df-convert\" onclick=\"convertToInteractive('df-244deae3-6846-425c-addf-608bba4939b6')\"\n",
              "              title=\"Convert this dataframe to an interactive table.\"\n",
              "              style=\"display:none;\">\n",
              "        \n",
              "  <svg xmlns=\"http://www.w3.org/2000/svg\" height=\"24px\"viewBox=\"0 0 24 24\"\n",
              "       width=\"24px\">\n",
              "    <path d=\"M0 0h24v24H0V0z\" fill=\"none\"/>\n",
              "    <path d=\"M18.56 5.44l.94 2.06.94-2.06 2.06-.94-2.06-.94-.94-2.06-.94 2.06-2.06.94zm-11 1L8.5 8.5l.94-2.06 2.06-.94-2.06-.94L8.5 2.5l-.94 2.06-2.06.94zm10 10l.94 2.06.94-2.06 2.06-.94-2.06-.94-.94-2.06-.94 2.06-2.06.94z\"/><path d=\"M17.41 7.96l-1.37-1.37c-.4-.4-.92-.59-1.43-.59-.52 0-1.04.2-1.43.59L10.3 9.45l-7.72 7.72c-.78.78-.78 2.05 0 2.83L4 21.41c.39.39.9.59 1.41.59.51 0 1.02-.2 1.41-.59l7.78-7.78 2.81-2.81c.8-.78.8-2.07 0-2.86zM5.41 20L4 18.59l7.72-7.72 1.47 1.35L5.41 20z\"/>\n",
              "  </svg>\n",
              "      </button>\n",
              "      \n",
              "  <style>\n",
              "    .colab-df-container {\n",
              "      display:flex;\n",
              "      flex-wrap:wrap;\n",
              "      gap: 12px;\n",
              "    }\n",
              "\n",
              "    .colab-df-convert {\n",
              "      background-color: #E8F0FE;\n",
              "      border: none;\n",
              "      border-radius: 50%;\n",
              "      cursor: pointer;\n",
              "      display: none;\n",
              "      fill: #1967D2;\n",
              "      height: 32px;\n",
              "      padding: 0 0 0 0;\n",
              "      width: 32px;\n",
              "    }\n",
              "\n",
              "    .colab-df-convert:hover {\n",
              "      background-color: #E2EBFA;\n",
              "      box-shadow: 0px 1px 2px rgba(60, 64, 67, 0.3), 0px 1px 3px 1px rgba(60, 64, 67, 0.15);\n",
              "      fill: #174EA6;\n",
              "    }\n",
              "\n",
              "    [theme=dark] .colab-df-convert {\n",
              "      background-color: #3B4455;\n",
              "      fill: #D2E3FC;\n",
              "    }\n",
              "\n",
              "    [theme=dark] .colab-df-convert:hover {\n",
              "      background-color: #434B5C;\n",
              "      box-shadow: 0px 1px 3px 1px rgba(0, 0, 0, 0.15);\n",
              "      filter: drop-shadow(0px 1px 2px rgba(0, 0, 0, 0.3));\n",
              "      fill: #FFFFFF;\n",
              "    }\n",
              "  </style>\n",
              "\n",
              "      <script>\n",
              "        const buttonEl =\n",
              "          document.querySelector('#df-244deae3-6846-425c-addf-608bba4939b6 button.colab-df-convert');\n",
              "        buttonEl.style.display =\n",
              "          google.colab.kernel.accessAllowed ? 'block' : 'none';\n",
              "\n",
              "        async function convertToInteractive(key) {\n",
              "          const element = document.querySelector('#df-244deae3-6846-425c-addf-608bba4939b6');\n",
              "          const dataTable =\n",
              "            await google.colab.kernel.invokeFunction('convertToInteractive',\n",
              "                                                     [key], {});\n",
              "          if (!dataTable) return;\n",
              "\n",
              "          const docLinkHtml = 'Like what you see? Visit the ' +\n",
              "            '<a target=\"_blank\" href=https://colab.research.google.com/notebooks/data_table.ipynb>data table notebook</a>'\n",
              "            + ' to learn more about interactive tables.';\n",
              "          element.innerHTML = '';\n",
              "          dataTable['output_type'] = 'display_data';\n",
              "          await google.colab.output.renderOutput(dataTable, element);\n",
              "          const docLink = document.createElement('div');\n",
              "          docLink.innerHTML = docLinkHtml;\n",
              "          element.appendChild(docLink);\n",
              "        }\n",
              "      </script>\n",
              "    </div>\n",
              "  </div>\n",
              "  "
            ]
          },
          "metadata": {},
          "execution_count": 23
        }
      ]
    },
    {
      "cell_type": "markdown",
      "source": [
        "### Clustering"
      ],
      "metadata": {
        "id": "130vYeYQRXDo"
      }
    },
    {
      "cell_type": "markdown",
      "source": [
        "On this step, we are finding hte oprimal number of clusters for the data we are analizing"
      ],
      "metadata": {
        "id": "Rt1DZIyORoXw"
      }
    },
    {
      "cell_type": "code",
      "source": [
        "#  Using previous values in order to find the apppropiate cluster value\n",
        "from yellowbrick.cluster import KElbowVisualizer\n",
        "from sklearn.cluster import KMeans\n",
        "model = KMeans()\n",
        "visualizer = KElbowVisualizer(model, k=(1,6)).fit(df0)\n",
        "visualizer.show()"
      ],
      "metadata": {
        "colab": {
          "base_uri": "https://localhost:8080/",
          "height": 393
        },
        "id": "W2LQvrTWmQf2",
        "outputId": "e4c9c223-d90f-4de5-ab62-b594fdf70437"
      },
      "execution_count": null,
      "outputs": [
        {
          "output_type": "display_data",
          "data": {
            "text/plain": [
              "<Figure size 576x396 with 2 Axes>"
            ],
            "image/png": "[encoded data removed]"
          },
          "metadata": {}
        },
        {
          "output_type": "execute_result",
          "data": {
            "text/plain": [
              "<matplotlib.axes._subplots.AxesSubplot at 0x7fb08411a2b0>"
            ]
          },
          "metadata": {},
          "execution_count": 24
        }
      ]
    },
    {
      "cell_type": "code",
      "source": [
        "from sklearn.cluster import KMeans\n",
        "kmeans3 = KMeans(n_clusters=2, init='k-means++', random_state=0).fit(df0)"
      ],
      "metadata": {
        "id": "Aw-q7QlsmXTQ"
      },
      "execution_count": null,
      "outputs": []
    },
    {
      "cell_type": "code",
      "source": [
        "print('The optimal clusters are \\n', kmeans3.cluster_centers_)"
      ],
      "metadata": {
        "colab": {
          "base_uri": "https://localhost:8080/"
        },
        "id": "FK1zdwSvqKTk",
        "outputId": "da67eb4b-1d34-408c-fec1-a1b90af43d85"
      },
      "execution_count": null,
      "outputs": [
        {
          "output_type": "stream",
          "name": "stdout",
          "text": [
            "The optimal clusters are \n",
            " [[36.28169965 32.94905914]\n",
            " [ 8.55561982 30.21817308]]\n"
          ]
        }
      ]
    },
    {
      "cell_type": "code",
      "source": [
        "\n",
        "plt.scatter(df0['charges'], df0['bmi'], c ='red')\n",
        "plt.title('Body Mass Index vs Charges',fontsize=18)\n",
        "plt.xlabel('Charges',fontsize=16)\n",
        "plt.ylabel('Body Mass Index',fontsize=16)\n",
        "plt.plot([ kmeans3.cluster_centers_[1,0],kmeans3.cluster_centers_[0,0]], [kmeans3.cluster_centers_[1,1],kmeans3.cluster_centers_[0,1]  ], marker='*', ls='none', ms=20)\n",
        "# plt.plot([ 8.55561982,36.28169965], [30.21817308,32.94905914  ], marker='*', ls='none', ms=19)"
      ],
      "metadata": {
        "colab": {
          "base_uri": "https://localhost:8080/",
          "height": 402
        },
        "id": "SnmYP1khfEPu",
        "outputId": "05025cac-7ad9-47e4-d9fb-c03539058672"
      },
      "execution_count": null,
      "outputs": [
        {
          "output_type": "execute_result",
          "data": {
            "text/plain": [
              "[<matplotlib.lines.Line2D at 0x7fb083febd00>]"
            ]
          },
          "metadata": {},
          "execution_count": 27
        },
        {
          "output_type": "display_data",
          "data": {
            "text/plain": [
              "<Figure size 576x396 with 1 Axes>"
            ],
            "image/png": "[encoded data removed]"
          },
          "metadata": {}
        }
      ]
    },
    {
      "cell_type": "code",
      "source": [
        "# Printing Kmeans3.labels\n",
        "kmeans3.labels_"
      ],
      "metadata": {
        "colab": {
          "base_uri": "https://localhost:8080/"
        },
        "id": "inWL4pfLUx31",
        "outputId": "1a6e9a76-4f32-47bb-d290-fa0216c5c8f3"
      },
      "execution_count": null,
      "outputs": [
        {
          "output_type": "execute_result",
          "data": {
            "text/plain": [
              "array([1, 1, 1, ..., 1, 1, 1], dtype=int32)"
            ]
          },
          "metadata": {},
          "execution_count": 28
        }
      ]
    },
    {
      "cell_type": "markdown",
      "source": [
        "Function  that can predict if smoker or not based on previous clustering results.\n",
        "This function predicts if a person is a smoker or not based on what he pays for the insurance as well as by his body mass index, or better know as BMI."
      ],
      "metadata": {
        "id": "Y72ghG_OYJlP"
      }
    },
    {
      "cell_type": "code",
      "source": [
        "# These are the centroids, clusters,I previously calculated\n",
        "c1= kmeans3.cluster_centers_[1,:]\n",
        "c2=  kmeans3.cluster_centers_[0,:]\n",
        "\n",
        "def smoker_predictor(chargesu,bmi):\n",
        "  # Because the row  of 'charges' was divided by a 1000 in the beggining, we must do the \n",
        "  # the same here in order to have appropiate results\n",
        "  charges = chargesu\n",
        "  v1= (charges - c1[0])**2 + (bmi - c1[1])**2\n",
        "  v2= (charges - c2[0])**2 + (bmi- c2[1])**2\n",
        "  if v1 <= v2:\n",
        "    return 0\n",
        "    # print('He doesnt smoke')\n",
        "  else:\n",
        "    # print('He smokes')\n",
        "    return 1\n",
        "print(smoker_predictor(180091,31))\n"
      ],
      "metadata": {
        "colab": {
          "base_uri": "https://localhost:8080/"
        },
        "id": "u9O_d_iPjENx",
        "outputId": "85119e1b-b2c9-428c-b4c8-3778289782d5"
      },
      "execution_count": null,
      "outputs": [
        {
          "output_type": "stream",
          "name": "stdout",
          "text": [
            "1\n"
          ]
        }
      ]
    },
    {
      "cell_type": "code",
      "source": [
        "#  Here, I will convert the Y_train into a list. This in order to make it easier to work with\n",
        "df2 = Y_test.copy()\n",
        "df2=df2.reset_index()\n",
        "df2 = df2.drop('index',axis='columns')\n",
        "Ytestlist= list(df2['smoker'])\n",
        "print(Ytestlist)"
      ],
      "metadata": {
        "colab": {
          "base_uri": "https://localhost:8080/"
        },
        "id": "_yOMPuD21wcr",
        "outputId": "b19103e3-8114-4f4f-d561-439c2cfdd5f6"
      },
      "execution_count": null,
      "outputs": [
        {
          "output_type": "stream",
          "name": "stdout",
          "text": [
            "[0, 0, 0, 0, 0, 0, 0, 0, 0, 0, 0, 0, 1, 0, 0, 0, 0, 0, 1, 0, 0, 0, 1, 1, 1, 0, 0, 0, 0, 0, 0, 0, 0, 0, 0, 0, 1, 0, 1, 0, 0, 1, 0, 0, 0, 0, 0, 0, 0, 0, 0, 0, 1, 1, 0, 0, 0, 0, 0, 1, 0, 0, 0, 1, 0, 0, 0, 0, 0, 0, 0, 0, 0, 0, 0, 0, 0, 0, 0, 0, 0, 0, 0, 1, 0, 0, 1, 0, 0, 0, 0, 0, 0, 0, 0, 1, 0, 0, 0, 1, 0, 0, 0, 0, 0, 0, 0, 0, 0, 1, 0, 0, 1, 0, 0, 0, 0, 0, 0, 1, 0, 0, 0, 0, 0, 1, 1, 0, 0, 0, 0, 0, 0, 0, 0, 0, 0, 1, 1, 0, 1, 0, 0, 0, 0, 1, 0, 0, 0, 0, 0, 0, 0, 0, 0, 0, 0, 1, 0, 0, 0, 0, 0, 0, 0, 0, 0, 1, 0, 0, 1, 0, 1, 1, 0, 0, 0, 0, 0, 0, 0, 0, 1, 0, 0, 1, 0, 0, 0, 1, 0, 0, 0, 1, 0, 1, 1, 0, 1, 0, 1, 0, 0, 0, 0, 0, 0, 1, 0, 0, 0, 1, 0, 0, 0, 0, 1, 0, 0, 0, 1, 0, 1, 1, 0, 1, 0, 0, 0, 0, 0, 0, 0, 0, 1, 1, 0, 0, 0, 0, 0, 0, 0, 0, 1, 1, 0, 1, 0, 0, 0, 0, 0, 0, 0, 0, 0, 0, 0, 0, 1, 1, 1, 0, 0, 1, 0, 1]\n"
          ]
        }
      ]
    },
    {
      "cell_type": "code",
      "source": [
        "def smoker_predictor(chargesu,bmi):\n",
        "  listsm = []\n",
        "  charges = chargesu\n",
        "  v1= (charges - c1[0])**2 + (bmi - c1[1])**2\n",
        "  v2= (charges - c2[0])**2 + (bmi- c2[1])**2\n",
        "  if v1 <= v2:\n",
        "    return 0\n",
        "  else:\n",
        "    return 1\n"
      ],
      "metadata": {
        "id": "Lx1Is6cF7I6u"
      },
      "execution_count": null,
      "outputs": []
    },
    {
      "cell_type": "code",
      "source": [
        "# This for loop, will decide on which cluster, each of our Y_test values should be in. This will create a list, called 'lis1t'\n",
        "# with all of the respective clusters for each value\n",
        "df3 = pd.DataFrame(X_test, columns=['charges', 'bmi']).values\n",
        "lis1t = []\n",
        "for i in range(len(df3)):\n",
        "  f = smoker_predictor(df3[i][0], df3[i][1])\n",
        "  if f == 1:\n",
        "    lis1t += [1]\n",
        "  else:\n",
        "    lis1t += [0]\n",
        "if len(lis1t) == len(Y_test):\n",
        "  print('Both the lis1t variable and the Y_test have the same length')"
      ],
      "metadata": {
        "colab": {
          "base_uri": "https://localhost:8080/"
        },
        "id": "FF8tJ0giyCtF",
        "outputId": "d8f03685-e162-46d1-bf05-6ec1f0fae5a4"
      },
      "execution_count": null,
      "outputs": [
        {
          "output_type": "stream",
          "name": "stdout",
          "text": [
            "Both the lis1t variable and the Y_test have the same length\n"
          ]
        }
      ]
    },
    {
      "cell_type": "code",
      "source": [
        "# In this step, I compare each of the values it predicted for Y_test based on X_test, with the actual Y_test.\n",
        "\n",
        "df4 = pd.DataFrame(Y_test).values\n",
        "x = 0\n",
        "y = 0\n",
        "for i in range(len(lis1t)):\n",
        "  if lis1t[i] == df4[i]:\n",
        "    x += 1\n",
        "  else:\n",
        "    y += 1\n",
        "\n",
        "print('It predicted ', x, ' correct')\n",
        "print('It predicted ', y, ' incorrectly')\n",
        "print('Therefore, we can say it effectivly predicts',x/(x+y), 'of times.')\n"
      ],
      "metadata": {
        "colab": {
          "base_uri": "https://localhost:8080/"
        },
        "id": "3XFqG5LB_xva",
        "outputId": "d41af6d2-5ad4-4ac7-a6d8-dac09f1d32f2"
      },
      "execution_count": null,
      "outputs": [
        {
          "output_type": "stream",
          "name": "stdout",
          "text": [
            "It predicted  238  correct\n",
            "It predicted  30  incorrectly\n",
            "Therefore, we can say it effectivly predicts 0.8880597014925373 of times.\n"
          ]
        }
      ]
    },
    {
      "cell_type": "code",
      "source": [
        " \n",
        "\n",
        "mse1 =(sklearn.metrics.mean_squared_error(Y_test,lis1t)) \n",
        "from sklearn.metrics import r2_score\n",
        "\n",
        "# calculate the R^2 value\n",
        "r21 = r2_score(Y_test, lis1t)\n",
        "\n",
        "print('The R^2 value is', r21)\n",
        "print(\"The mean square error is\", mse1)"
      ],
      "metadata": {
        "id": "s7Xh-vJfBnpL",
        "colab": {
          "base_uri": "https://localhost:8080/"
        },
        "outputId": "d917e87a-4770-43ac-8a4f-e316f0fe49f2"
      },
      "execution_count": null,
      "outputs": [
        {
          "output_type": "stream",
          "name": "stdout",
          "text": [
            "The R^2 value is 0.31370038412291945\n",
            "The mean square error is 0.11194029850746269\n"
          ]
        }
      ]
    },
    {
      "cell_type": "markdown",
      "source": [
        "### Regression Tree"
      ],
      "metadata": {
        "id": "AdBzMp0nrxZG"
      }
    },
    {
      "cell_type": "code",
      "source": [
        "# Building a prediction from our values, using a regression tree\n",
        "from sklearn.tree import DecisionTreeRegressor\n",
        "\n",
        "X_test = pd.DataFrame(X_test, columns=['charges', 'bmi'])\n",
        "\n",
        "model = DecisionTreeRegressor(random_state=44)\n",
        "model.fit(df0, Y_train)\n",
        "predictions = model.predict(X_test)\n",
        "\n",
        "mse2 = (sklearn.metrics.mean_squared_error(Y_test, predictions))\n",
        "r22 = r2_score(Y_test, predictions)\n",
        "\n",
        "print('The R^2 value is', r22)\n",
        "print(\"The difference between actual and predicted values\", mse2) \n"
      ],
      "metadata": {
        "id": "ScoOaE-Trame",
        "colab": {
          "base_uri": "https://localhost:8080/"
        },
        "outputId": "f6f9168a-28ea-4ba7-8b3d-c77b3330d81c"
      },
      "execution_count": null,
      "outputs": [
        {
          "output_type": "stream",
          "name": "stdout",
          "text": [
            "The R^2 value is 0.748356807511737\n",
            "The difference between actual and predicted values 0.041044776119402986\n"
          ]
        }
      ]
    },
    {
      "cell_type": "markdown",
      "source": [
        "## Linear Regresion"
      ],
      "metadata": {
        "id": "OVRsHXp9n1Ca"
      }
    },
    {
      "cell_type": "code",
      "source": [
        "l = LinearRegression()\n",
        "\n",
        "\n",
        "l.fit(df0, Y_train)\n",
        "\n",
        "predictions = l.predict(X_test)\n",
        "\n",
        "mse3 = (sklearn.metrics.mean_squared_error(Y_test, predictions))\n",
        "r23 = r2_score(Y_test, predictions)\n",
        "\n",
        "print('The R^2 value is', r23)\n",
        "print('The mean squared error is', mse3)"
      ],
      "metadata": {
        "colab": {
          "base_uri": "https://localhost:8080/"
        },
        "id": "cCnXIlnhn3Mq",
        "outputId": "1b62ff6a-e541-4a44-c324-33e0fd68c7d2"
      },
      "execution_count": null,
      "outputs": [
        {
          "output_type": "stream",
          "name": "stdout",
          "text": [
            "The R^2 value is 0.6130145350560436\n",
            "The mean squared error is 0.0631200534893413\n"
          ]
        }
      ]
    },
    {
      "cell_type": "markdown",
      "source": [
        "## Random Forest"
      ],
      "metadata": {
        "id": "CmcLTftynKhD"
      }
    },
    {
      "cell_type": "code",
      "source": [
        "\n",
        "rf = RandomForestRegressor()\n",
        "rf.fit(df0, Y_train)\n",
        "predictions = rf.predict(X_test)\n",
        "\n",
        "\n",
        "mse4 = (sklearn.metrics.mean_squared_error(Y_test, predictions))\n",
        "r24 = r2_score(Y_test, predictions)\n",
        "\n",
        "print('The R^2 value is', r24)\n",
        "print('The mean squared error is', mse4)"
      ],
      "metadata": {
        "colab": {
          "base_uri": "https://localhost:8080/"
        },
        "id": "GMGPxmqynNwC",
        "outputId": "008fa479-459b-449e-c161-c4d67f5ffabc"
      },
      "execution_count": null,
      "outputs": [
        {
          "output_type": "stream",
          "name": "stdout",
          "text": [
            "The R^2 value is 0.867219325650875\n",
            "The mean squared error is 0.021657462686567163\n"
          ]
        }
      ]
    },
    {
      "cell_type": "markdown",
      "source": [
        "## Graphing the results of the Mean Square Error and R-Squared for each of the algorithms.\n"
      ],
      "metadata": {
        "id": "Fc994fCFmfdV"
      }
    },
    {
      "cell_type": "code",
      "source": [
        "import matplotlib.pyplot as plt\n",
        "\n",
        "# list of MSE values\n",
        "mse_values = [mse1, mse2,mse3,mse4]\n",
        "\n",
        "\n",
        "mse_labels = ['Clustering', 'Regression Tree', 'Linear Regression', 'Random Forest']\n",
        "plt.plot(mse_values)\n",
        "\n",
        "\n",
        "plt.xlabel('Models')\n",
        "plt.ylabel('Mean Squared Error')\n",
        "plt.title('MSE of the Different Methods Used')\n",
        "\n",
        "\n",
        "plt.xticks(range(len(mse_values)), mse_labels)\n",
        "\n",
        "plt.show()\n",
        "\n",
        "#  Ploting the R-Squared\n",
        "r2_values = [r21, r22,r23,r24]\n",
        "r2_labels = ['Clustering', 'Regression Tree', 'Linear Regression', 'Random Forest']\n",
        "plt.plot(r2_values)\n",
        "\n",
        "plt.xlabel('Models')\n",
        "plt.ylabel('R-Squared')\n",
        "plt.title('R-Squared of the Different Methods Used')\n",
        "\n",
        "plt.xticks(range(len(r2_values)), r2_labels)\n",
        "plt.show()\n"
      ],
      "metadata": {
        "colab": {
          "base_uri": "https://localhost:8080/",
          "height": 735
        },
        "id": "HLNrTUv6me16",
        "outputId": "9b4bcf10-9086-4a8c-b1d7-fd617e601763"
      },
      "execution_count": null,
      "outputs": [
        {
          "output_type": "display_data",
          "data": {
            "text/plain": [
              "<Figure size 576x396 with 1 Axes>"
            ],
            "image/png": "[encoded data removed]"
          },
          "metadata": {}
        },
        {
          "output_type": "display_data",
          "data": {
            "text/plain": [
              "<Figure size 576x396 with 1 Axes>"
            ],
            "image/png": "[encoded data removed]"
          },
          "metadata": {}
        }
      ]
    },
    {
      "cell_type": "markdown",
      "source": [
        "## Results.\n"
      ],
      "metadata": {
        "id": "-BB8_e-KjExz"
      }
    },
    {
      "cell_type": "markdown",
      "source": [
        "After working with this four different algorithms, I realizd that in one way or another, all of this methods do have good prediction. Clustering which was the less accurate of them all, still had decent predictions. Even though this is the case, it is worth mentioning that non of these methods will have a perfect result at predicting the desired variable. To get the precise measurement of each respective wine, a hydrometer or other scientific methods should be used. Putting that information aside, the algorithms can give us a good approximation of the alcohol level.\n",
        " \n",
        " \n",
        " **Clustering**\n",
        "\n",
        "- From the beginning, I knew there were better algorithms to measure and predict if someone smokes or not. This is due to the fact that this method is used for unsupervised learning, and it does not have a target variable and thus cannot be directly compared to a regression method. However, I still wanted to do clustering in order to see how it would react to this dataset. When running the clustering algorithm, I successfully found two different clusters that allowed me to use clustering as a forecaster. Although this cluster algorithm can try and predict whether a person is a smoker, the results are not as good as other methods. When running the algorithm for Y_test and X_test, it successfully predicted 88% of the output. However, I  think, that if the number of testing samples is increased, I would expect the clustering to predict less than 88%. This is because most of the difference this set of clusters can make is between the cost; the BMI does not have much of an influence. According to the clustering algorithm, If a person's price is closer to 8,500 than it is to 32,000, then he is not a smoker, and the same is the other way around. This is because the BMI, does not play such a role, as the difference between clusters is near.\n",
        "\n",
        "**Regression Tree**\n",
        "\n",
        "- In difference with the clustering method, the regression tree can have a more in-depth look at our X_test. In other words, the clustering algorithm mostly separated between high and low costs to predict if a person is a smoker or not. However, the regression tree on the other hand, can have a more in-depth look into high and low budgets. This will allow to a more in the depth analysis of our X and Y train, thus allowing us to predict the tests better. This is the reason why this method was the second best, accoding to the R-Squared test and the MSE, at predicting if someone smokes.\n",
        "\n",
        "**Linear Regression**\n",
        "\n",
        "- As compared with other methods, linear regression assumes that the relationship between the variables is linear, and it uses this assumption to make predictions based on the training data. Thus, the results showed that the algorithm was better at predicting the data than the clustering algorithm, as it had higher r-squared and lower mse, however, it was still worse than the Regression Tree and Random Forest. This may be because the algorithm only uses a single model to make predictions, and most importanly becaue it's not able to capture the complexity of the data as well as the other algorithms.\n",
        "\n",
        "**Random Forest**\n",
        "\n",
        "- By creating many different decisions tree, Random Forest is the best at predicting the most accurate outcome. The result of the MSE and R-squared was much better when using the Random Forest. The reason why this was the most accurate model, is because Random Forest is able to use many models in order to better predic the upcoming data. It creates many different decisions trees on the data, and uses the best one to predict. Due to the complexity of this methods, it allows the algorithm to have a better understanding of the data and thus predict using the best possible decision tree.\n",
        "\n",
        "\n",
        "**Mean Square error and R-Squared**\n",
        "\n",
        "- The mean squared error (MSE) and the R-squared value are two measures of how well a model fits a set of data. The MSE is calculated by taking the difference between the predicted values and the actual values, squaring each of these differences, and then taking the average of all the squared differences. The R-squared value is a measure of how much of the variance in the dependent variable (in this case, whether a person is a smoker or not) can be explained by the model. It is calculated by taking the squared differences between the predicted values and the mean of the actual values, and dividing this by the squared differences between the actual values and the mean of the actual values.\n",
        "\n",
        "\n",
        "\n",
        "The values of this messures can be compared to determine which algorithm is the most effective at predicting whether a person smokes or not. The lower the MSE and the higher the R-squared value, the better the model. In this case, the Random Forest algorithm had the lowest MSE and the highest R-squared value, indicating that it was the best fit for the data and the most effective at making predictions. \n",
        "\n",
        "Based on the results, the order from more to less precise is:\n",
        "\n",
        "1. Random Forest.\n",
        "2. Regression Tree.\n",
        "3. Linear Regression\n",
        "4. Clustering\n",
        "\n",
        "From here, it is clear that the regresson agorithms are better at predicting continous variables than clusters are. However, I still wanted to try and do the clustering algorithm in order to see what type of results it would have, and how far off this results would be from other, more complex, algorithms.\n",
        "\n",
        " "
      ],
      "metadata": {
        "id": "2zuwgJnwjYyW"
      }
    },
    {
      "cell_type": "markdown",
      "source": [
        "## Conclusion"
      ],
      "metadata": {
        "id": "DicTUdk07wKM"
      }
    },
    {
      "cell_type": "markdown",
      "source": [
        "In this study, we sought to determine the most effective machine learning algorithm for predicting whether a person smokes or not based on their insurance costs and BMI. To do this, I splitted the data into training and testing sets, and used four different machine learning algorithms to build predictive models on the training data.\n",
        "\n",
        "I evaluated the performance of each algorithm using mean squared error (MSE) and R-squared values, which are measures of how well the model fits the data. The lower the MSE and the higher the R-squared, the better the model.\n",
        "\n",
        "The results showed that the Random Forest algorithm had the lowest MSE and the highest R-squared value, indicating that it was the best fit for the data. This could be because the Random Forest algorithm is able to create multiple decision trees and combine them to make more accurate predictions, whereas the other algorithms were only able to use a single model to make predictions.\n",
        "\n",
        "In conclusion, the results of this analysis suggest that the Random Forest algorithm is the most effective at predicting whether a person smokes or not based on their insurance costs and BMI. Using this algorithm can provide more accurate predictions and improve the overall performance of the model.\n",
        "\n",
        "\n",
        "\n",
        "In conclusion, the results of this analysis suggest that the Random Forest algorithm was the most effective at predicting whether a person smokes or not based on their insurance costs and BMI. The Random Forest had the lowest mean squared error and the highest R-squared value, indicating that it was the best fit for the data. This may be because the Random Forest algorithm is able to create multiple decision trees and combine them to make more accurate predictions, whereas the other algorithms were only able to use a single model to make predictions. Overall, these results suggest that using the Random Forest algorithm can provide more accurate predictions for this type of data. However, there is no algorithm that can perfectly predict if someone is a smoker or not."
      ],
      "metadata": {
        "id": "Q8J6KTGL7xqy"
      }
    },
    {
      "cell_type": "markdown",
      "source": [
        "## References\n"
      ],
      "metadata": {
        "id": "teNb8qgpAvcY"
      }
    },
    {
      "cell_type": "markdown",
      "source": [
        "\n",
        "\n",
        "1. [ Regression tree in Python](https://data36.com/regression-tree-python-scikit-learn/)\n",
        "\n",
        "2.  [How to convert pandas columns to lists.](https://sparkbyexamples.com/pandas/conver-pandas-column-to-list/#:~:text=tolist()%20you%20can%20convert,the%20column%20values%20to%20list.)\n",
        "\n",
        "3.  [Ploty's website\n",
        "](https://plotly.com/)\n",
        "\n",
        "4. [Train and Test Data](https://subscription.packtpub.com/book/data/9781838552862/1/ch01lvl1sec10/train-and-test-data)\n",
        "\n",
        "5. [Understanding Clustering Better](https://stackabuse.com/k-means-clustering-with-scikit-learn/)\n",
        "\n",
        "6. [Stack Overflow](https://stackoverflow.com/)\n",
        "\n",
        "7. [Mean Square Error](https://www.simplilearn.com/tutorials/statistics-tutorial/mean-squared-error#:~:text=The%20Mean%20Squared%20Error%20measures,it%20relates%20to%20a%20function.)\n",
        "\n",
        "\n",
        "8. [Elbow Method (clustering)](https://www.scikit-yb.org/en/latest/api/cluster/elbow.html)\n",
        "\n",
        "9. [DataSet](https://www.kaggle.com/datasets/mirichoi0218/insurance)\n",
        "\n",
        "10. [Label Encouder](https://towardsdatascience.com/label-encoder-and-onehot-encoder-in-python-83d32288b592)\n",
        "\n",
        "11. [Matemathic Behind Kmeans Clustering](https://heartbeat.comet.ml/understanding-the-mathematics-behind-k-means-clustering-40e1d55e2f4c?gi=3b78d2ff95e7])\n",
        "\n",
        "12. [Detailed Explanaition on Regression Trees](https://data36.com/regression-tree-python-scikit-learn/#:~:text=Some%20explanation%3A,the%20future%20on%20new%20data.)\n",
        "\n",
        "13. [Information on compering systems.](https://openaccess.city.ac.uk/id/eprint/15125/1/Guo%2C%20Shijing.pdf)\n",
        "\n",
        "*Some of this websites, were also used for more information.*"
      ],
      "metadata": {
        "id": "KjIv51f6-89Q"
      }
    }
  ]
}